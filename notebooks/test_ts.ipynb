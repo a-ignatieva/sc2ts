{
 "cells": [
  {
   "cell_type": "code",
   "execution_count": 2,
   "metadata": {},
   "outputs": [],
   "source": [
    "from collections import Counter\n",
    "import numpy as np\n",
    "import tskit\n"
   ]
  },
  {
   "cell_type": "code",
   "execution_count": 25,
   "metadata": {},
   "outputs": [
    {
     "data": {
      "text/html": [
       "\n",
       "            <div>\n",
       "              <style>\n",
       "                .tskit-table thead tr th {text-align: left;padding: 0.5em 0.5em;}\n",
       "                .tskit-table tbody tr td {padding: 0.5em 0.5em;}\n",
       "                .tskit-table tbody tr td:first-of-type {text-align: left;}\n",
       "                .tskit-details-label {vertical-align: top; padding-right:5px;}\n",
       "                .tskit-table-set {display: inline-flex;flex-wrap: wrap;margin: -12px 0 0 -12px;width: calc(100% + 12px);}\n",
       "                .tskit-table-set-table {margin: 12px 0 0 12px;}\n",
       "                details {display: inline-block;}\n",
       "                summary {cursor: pointer; outline: 0; display: list-item;}\n",
       "              </style>\n",
       "              <div class=\"tskit-table-set\">\n",
       "                <div class=\"tskit-table-set-table\">\n",
       "                  <table class=\"tskit-table\">\n",
       "                    <thead>\n",
       "                      <tr>\n",
       "                        <th style=\"padding:0;line-height:21px;\">\n",
       "                          <img style=\"height: 32px;display: inline-block;padding: 3px 5px 3px 0;\" src=\"https://raw.githubusercontent.com/tskit-dev/administrative/main/tskit_logo.svg\"/>\n",
       "                          <a target=\"_blank\" href=\"https://tskit.dev/tskit/docs/latest/python-api.html#the-treesequence-class\"> Tree Sequence </a>\n",
       "                        </th>\n",
       "                      </tr>\n",
       "                    </thead>\n",
       "                    <tbody>\n",
       "                      <tr><td>Trees</td><td>1</td></tr>\n",
       "                      <tr><td>Sequence Length</td><td>29904.0</td></tr>\n",
       "                      <tr><td>Time Units</td><td>days</td></tr>\n",
       "                      <tr><td>Sample Nodes</td><td>49</td></tr>\n",
       "                      <tr><td>Total Size</td><td>1.4 MiB</td></tr>\n",
       "                      <tr>\n",
       "                        <td>Metadata</td><td style=\"text-align: left;\">\n",
       "                <div>\n",
       "                  <span class=\"tskit-details-label\"></span>\n",
       "                  <details open>\n",
       "                    <summary>dict</summary>\n",
       "                    \n",
       "                <div>\n",
       "                  <span class=\"tskit-details-label\">sc2ts:</span>\n",
       "                  <details >\n",
       "                    <summary>dict</summary>\n",
       "                    \n",
       "                <div>\n",
       "                  <span class=\"tskit-details-label\">additional_problematic_sites:</span>\n",
       "                  <details >\n",
       "                    <summary>list</summary>\n",
       "                    \n",
       "                  </details>\n",
       "                </div>\n",
       "                <br/>date: 2020-02-13<br/>\n",
       "                <div>\n",
       "                  <span class=\"tskit-details-label\">samples_strain:</span>\n",
       "                  <details >\n",
       "                    <summary>list</summary>\n",
       "                     Wuhan/Hu-1/2019<br/> SRR11772659<br/> SRR11397727<br/> SRR11397730<br/> SRR11397726<br/> SRR11397729<br/> SRR11597198<br/> SRR11597143<br/> SRR11597154<br/> SRR11597132<br/> SRR11597121<br/> SRR11597220<br/> SRR11597177<br/> SRR12162232<br/> SRR12162233<br/> SRR12162234<br/> SRR12162235<br/> SRR11494548<br/> SRR11597140<br/> SRR11597151<br/> SRR11597144<br/> SRR11597153<br/> SRR11597114<br/> SRR11597164<br/> SRR11597190<br/> SRR11597195<br/> ERR4239266<br/> SRR11597191<br/> SRR11597174<br/> SRR11597188<br/> SRR11597136<br/> SRR11597175<br/> SRR11597156<br/> SRR11597168<br/> SRR11597178<br/> SRR11597196<br/> SRR11597146<br/> SRR11597150<br/> SRR11397718<br/> SRR11397722<br/> SRR11597163<br/> SRR11597216<br/> ERR4206180<br/> SRR11597116<br/> SRR11597207<br/> SRR11597218<br/> ERR4205570<br/> ERR4204459<br/> ERR4206593<br/>\n",
       "                  </details>\n",
       "                </div>\n",
       "                <br/>\n",
       "                  </details>\n",
       "                </div>\n",
       "                <br/>\n",
       "                  </details>\n",
       "                </div>\n",
       "                </td></tr>\n",
       "                    </tbody>\n",
       "                  </table>\n",
       "                </div>\n",
       "                <div class=\"tskit-table-set-table\">\n",
       "                  <table class=\"tskit-table\">\n",
       "                    <thead>\n",
       "                      <tr>\n",
       "                        <th style=\"line-height:21px;\">Table</th>\n",
       "                        <th>Rows</th>\n",
       "                        <th>Size</th>\n",
       "                        <th>Has Metadata</th>\n",
       "                      </tr>\n",
       "                    </thead>\n",
       "                    <tbody>\n",
       "                    \n",
       "                  <tr>\n",
       "                    <td>Edges</td>\n",
       "                      <td>61</td>\n",
       "                      <td>1.9 KiB</td>\n",
       "                      <td style=\"text-align: center;\">\n",
       "                        \n",
       "                      </td>\n",
       "                    </tr>\n",
       "                \n",
       "                  <tr>\n",
       "                    <td>Individuals</td>\n",
       "                      <td>0</td>\n",
       "                      <td>24 Bytes</td>\n",
       "                      <td style=\"text-align: center;\">\n",
       "                        \n",
       "                      </td>\n",
       "                    </tr>\n",
       "                \n",
       "                  <tr>\n",
       "                    <td>Migrations</td>\n",
       "                      <td>0</td>\n",
       "                      <td>8 Bytes</td>\n",
       "                      <td style=\"text-align: center;\">\n",
       "                        \n",
       "                      </td>\n",
       "                    </tr>\n",
       "                \n",
       "                  <tr>\n",
       "                    <td>Mutations</td>\n",
       "                      <td>68</td>\n",
       "                      <td>7.3 KiB</td>\n",
       "                      <td style=\"text-align: center;\">\n",
       "                        ✅\n",
       "                      </td>\n",
       "                    </tr>\n",
       "                \n",
       "                  <tr>\n",
       "                    <td>Nodes</td>\n",
       "                      <td>62</td>\n",
       "                      <td>53.3 KiB</td>\n",
       "                      <td style=\"text-align: center;\">\n",
       "                        ✅\n",
       "                      </td>\n",
       "                    </tr>\n",
       "                \n",
       "                  <tr>\n",
       "                    <td>Populations</td>\n",
       "                      <td>0</td>\n",
       "                      <td>8 Bytes</td>\n",
       "                      <td style=\"text-align: center;\">\n",
       "                        \n",
       "                      </td>\n",
       "                    </tr>\n",
       "                \n",
       "                  <tr>\n",
       "                    <td>Provenances</td>\n",
       "                      <td>0</td>\n",
       "                      <td>16 Bytes</td>\n",
       "                      <td style=\"text-align: center;\">\n",
       "                        \n",
       "                      </td>\n",
       "                    </tr>\n",
       "                \n",
       "                  <tr>\n",
       "                    <td>Sites</td>\n",
       "                      <td>29422</td>\n",
       "                      <td>1.3 MiB</td>\n",
       "                      <td style=\"text-align: center;\">\n",
       "                        ✅\n",
       "                      </td>\n",
       "                    </tr>\n",
       "                \n",
       "                    </tbody>\n",
       "                  </table>\n",
       "                </div>\n",
       "              </div>\n",
       "            </div>\n",
       "            "
      ],
      "text/plain": [
       "<tskit.trees.TreeSequence at 0x7f0c55d268f0>"
      ]
     },
     "execution_count": 25,
     "metadata": {},
     "output_type": "execute_result"
    }
   ],
   "source": [
    "# Generate these trees by running pytest tests/test_inference.py\n",
    "ts_file = \"../tests/data/cache/2020-02-13.ts\"\n",
    "ts = tskit.load(ts_file)\n",
    "ts\n"
   ]
  },
  {
   "cell_type": "code",
   "execution_count": 26,
   "metadata": {},
   "outputs": [
    {
     "data": {
      "text/plain": [
       "Counter({'CT': 38,\n",
       "         'GT': 8,\n",
       "         'AG': 7,\n",
       "         'TC': 7,\n",
       "         'GA': 4,\n",
       "         'A-': 1,\n",
       "         'TA': 1,\n",
       "         'GC': 1,\n",
       "         'CA': 1})"
      ]
     },
     "execution_count": 26,
     "metadata": {},
     "output_type": "execute_result"
    }
   ],
   "source": [
    "mut_labels = {}\n",
    "mut_pos = []\n",
    "mut_types = []\n",
    "\n",
    "for mut in ts.mutations():\n",
    "    site = ts.site(mut.site)\n",
    "    pos = int(site.position)\n",
    "    older_mut = mut.parent >= 0\n",
    "    prev = ts.mutation(mut.parent).derived_state if older_mut else site.ancestral_state\n",
    "    mut_labels[mut.id] = f\"{prev}{pos}{mut.derived_state}\"\n",
    "    mut_pos.append(pos)\n",
    "    mut_types.append(f\"{prev}{mut.derived_state}\")\n",
    "\n",
    "# What is A1547-? One-base deletion in ORF1a.\n",
    "Counter(mut_types)\n"
   ]
  },
  {
   "cell_type": "code",
   "execution_count": 27,
   "metadata": {},
   "outputs": [
    {
     "name": "stdout",
     "output_type": "stream",
     "text": [
      "pos: 29742; count: 2\n"
     ]
    }
   ],
   "source": [
    "# There is one site having two mutations.\n",
    "mut_pos_counts = Counter(mut_pos)\n",
    "for k, v in mut_pos_counts.items():\n",
    "    if v > 1:\n",
    "        print(f\"pos: {k}; count: {v}\")\n"
   ]
  },
  {
   "cell_type": "code",
   "execution_count": 28,
   "metadata": {},
   "outputs": [
    {
     "data": {
      "text/plain": [
       "True"
      ]
     },
     "execution_count": 28,
     "metadata": {},
     "output_type": "execute_result"
    }
   ],
   "source": [
    "# There should be no recurrent mutations this early.\n",
    "all(np.array(list(Counter(mut_labels.values()).values()), dtype=int) == 1)\n"
   ]
  },
  {
   "cell_type": "code",
   "execution_count": 29,
   "metadata": {},
   "outputs": [
    {
     "data": {
      "text/plain": [
       "Counter({'B': 24, 'A': 15, 'B.1': 4, 'B.40': 3, 'B.4': 1, 'B.33': 1})"
      ]
     },
     "execution_count": 29,
     "metadata": {},
     "output_type": "execute_result"
    }
   ],
   "source": [
    "# The majority of samples should be from the lineage B, with some from the lineage A.\n",
    "node_labels = {}\n",
    "pango_labels = []\n",
    "for node in ts.nodes():\n",
    "    if node.is_sample() and \"Viridian_pangolin\" in node.metadata:\n",
    "        strain = node.metadata[\"strain\"]\n",
    "        pango = node.metadata[\"Viridian_pangolin\"]\n",
    "        node_labels[node.id] = f\"{node.id} {pango}\\n{strain}\"\n",
    "        pango_labels.append(pango)\n",
    "    else:\n",
    "        node_labels[node.id] = f\"{node.id}\"\n",
    "Counter(pango_labels)\n"
   ]
  },
  {
   "cell_type": "code",
   "execution_count": 30,
   "metadata": {},
   "outputs": [
    {
     "data": {
      "text/plain": [
       "array([ 1, 16,  0,  0,  0,  5,  0,  0,  1, 13,  0,  0,  0,  0,  0,  0,  0,\n",
       "        0,  0,  0,  4,  0,  0,  0,  0,  0,  2,  0,  0,  0,  0,  2,  0,  0,\n",
       "        2,  0,  0,  0,  0,  3,  0,  0,  0,  0,  2,  2,  0,  0,  0,  0,  2,\n",
       "        0,  2,  0,  2,  0,  0,  0,  0,  0,  0,  2,  1], dtype=int32)"
      ]
     },
     "execution_count": 30,
     "metadata": {},
     "output_type": "execute_result"
    }
   ],
   "source": [
    "# Check polytomy at the top.\n",
    "ts.first().num_children_array\n"
   ]
  },
  {
   "cell_type": "code",
   "execution_count": 31,
   "metadata": {},
   "outputs": [
    {
     "data": {
      "image/svg+xml": [
       "<svg baseProfile=\"full\" height=\"1500\" version=\"1.1\" width=\"950\" xmlns=\"http://www.w3.org/2000/svg\" xmlns:ev=\"http://www.w3.org/2001/xml-events\" xmlns:xlink=\"http://www.w3.org/1999/xlink\"><defs><style type=\"text/css\"><![CDATA[.background path {fill: #808080; fill-opacity: 0}.background path:nth-child(odd) {fill-opacity: .1}.axes {font-size: 14px}.x-axis .tick .lab {font-weight: bold; dominant-baseline: hanging}.axes, .tree {font-size: 14px; text-anchor: middle}.axes line, .edge {stroke: black; fill: none}.axes .ax-skip {stroke-dasharray: 4}.y-axis .grid {stroke: #FAFAFA}.node > .sym {fill: black; stroke: none}.site > .sym {stroke: black}.mut text {fill: red; font-style: italic}.mut.extra text {fill: hotpink}.mut line {fill: none; stroke: none}.mut .sym {fill: none; stroke: red}.mut.extra .sym {stroke: hotpink}.node .mut .sym {stroke-width: 1.5px}.tree text, .tree-sequence text {dominant-baseline: central}.plotbox .lab.lft {text-anchor: end}.plotbox .lab.rgt {text-anchor: start}.mut > .lab {font-size: 80%; transform: rotate(-25deg) translate(0px)}.node > .lab {font-size: 80%}.leaf > .lab {text-anchor: middle; transform: rotate(-35deg) translateY(10px)}]]></style></defs><g class=\"tree-sequence\"><g class=\"axes\"><g class=\"x-axis\"><g class=\"title\" transform=\"translate(493.4 1500)\"><text class=\"lab\" text-anchor=\"middle\" transform=\"translate(0 -11)\">Genome position</text></g><line class=\"ax-line\" x1=\"56.8\" x2=\"930\" y1=\"1463.2\" y2=\"1463.2\" /><g class=\"ticks\"><g class=\"tick\" transform=\"translate(56.8 1463.2)\"><line x1=\"0\" x2=\"0\" y1=\"-5\" y2=\"5\" /><g transform=\"translate(0 6)\"><text class=\"lab\">0</text></g></g><g class=\"tick\" transform=\"translate(930 1463.2)\"><line x1=\"0\" x2=\"0\" y1=\"-5\" y2=\"5\" /><g transform=\"translate(0 6)\"><text class=\"lab\">29904</text></g></g></g></g><g class=\"y-axis\"><g class=\"title\" transform=\"translate(0 715.7)\"><text class=\"lab\" text-anchor=\"middle\" transform=\"translate(11) rotate(-90)\">Node time (days)</text></g><line class=\"ax-line\" x1=\"56.8\" x2=\"56.8\" y1=\"1421.4\" y2=\"10\" /><g class=\"ticks\"><g class=\"tick\" transform=\"translate(56.8 1421.4)\"><line x1=\"0\" x2=\"-5\" y1=\"0\" y2=\"0\" /><g transform=\"translate(-6 0)\"><text class=\"lab\" text-anchor=\"end\">0.00</text></g></g><g class=\"tick\" transform=\"translate(56.8 1377.82)\"><line x1=\"0\" x2=\"-5\" y1=\"0\" y2=\"0\" /><g transform=\"translate(-6 0)\"><text class=\"lab\" text-anchor=\"end\">2.00</text></g></g><g class=\"tick\" transform=\"translate(56.8 1334.24)\"><line x1=\"0\" x2=\"-5\" y1=\"0\" y2=\"0\" /><g transform=\"translate(-6 0)\"><text class=\"lab\" text-anchor=\"end\">3.00</text></g></g><g class=\"tick\" transform=\"translate(56.8 1290.66)\"><line x1=\"0\" x2=\"-5\" y1=\"0\" y2=\"0\" /><g transform=\"translate(-6 0)\"><text class=\"lab\" text-anchor=\"end\">4.00</text></g></g><g class=\"tick\" transform=\"translate(56.8 1247.08)\"><line x1=\"0\" x2=\"-5\" y1=\"0\" y2=\"0\" /><g transform=\"translate(-6 0)\"><text class=\"lab\" text-anchor=\"end\">5.00</text></g></g><g class=\"tick\" transform=\"translate(56.8 1203.49)\"><line x1=\"0\" x2=\"-5\" y1=\"0\" y2=\"0\" /><g transform=\"translate(-6 0)\"><text class=\"lab\" text-anchor=\"end\">5.00</text></g></g><g class=\"tick\" transform=\"translate(56.8 1159.91)\"><line x1=\"0\" x2=\"-5\" y1=\"0\" y2=\"0\" /><g transform=\"translate(-6 0)\"><text class=\"lab\" text-anchor=\"end\">6.00</text></g></g><g class=\"tick\" transform=\"translate(56.8 1116.33)\"><line x1=\"0\" x2=\"-5\" y1=\"0\" y2=\"0\" /><g transform=\"translate(-6 0)\"><text class=\"lab\" text-anchor=\"end\">7.00</text></g></g><g class=\"tick\" transform=\"translate(56.8 1072.75)\"><line x1=\"0\" x2=\"-5\" y1=\"0\" y2=\"0\" /><g transform=\"translate(-6 0)\"><text class=\"lab\" text-anchor=\"end\">8.00</text></g></g><g class=\"tick\" transform=\"translate(56.8 1029.17)\"><line x1=\"0\" x2=\"-5\" y1=\"0\" y2=\"0\" /><g transform=\"translate(-6 0)\"><text class=\"lab\" text-anchor=\"end\">9.00</text></g></g><g class=\"tick\" transform=\"translate(56.8 985.588)\"><line x1=\"0\" x2=\"-5\" y1=\"0\" y2=\"0\" /><g transform=\"translate(-6 0)\"><text class=\"lab\" text-anchor=\"end\">9.00</text></g></g><g class=\"tick\" transform=\"translate(56.8 942.006)\"><line x1=\"0\" x2=\"-5\" y1=\"0\" y2=\"0\" /><g transform=\"translate(-6 0)\"><text class=\"lab\" text-anchor=\"end\">10.00</text></g></g><g class=\"tick\" transform=\"translate(56.8 898.425)\"><line x1=\"0\" x2=\"-5\" y1=\"0\" y2=\"0\" /><g transform=\"translate(-6 0)\"><text class=\"lab\" text-anchor=\"end\">11.00</text></g></g><g class=\"tick\" transform=\"translate(56.8 854.844)\"><line x1=\"0\" x2=\"-5\" y1=\"0\" y2=\"0\" /><g transform=\"translate(-6 0)\"><text class=\"lab\" text-anchor=\"end\">12.00</text></g></g><g class=\"tick\" transform=\"translate(56.8 811.263)\"><line x1=\"0\" x2=\"-5\" y1=\"0\" y2=\"0\" /><g transform=\"translate(-6 0)\"><text class=\"lab\" text-anchor=\"end\">12.00</text></g></g><g class=\"tick\" transform=\"translate(56.8 767.681)\"><line x1=\"0\" x2=\"-5\" y1=\"0\" y2=\"0\" /><g transform=\"translate(-6 0)\"><text class=\"lab\" text-anchor=\"end\">12.00</text></g></g><g class=\"tick\" transform=\"translate(56.8 724.1)\"><line x1=\"0\" x2=\"-5\" y1=\"0\" y2=\"0\" /><g transform=\"translate(-6 0)\"><text class=\"lab\" text-anchor=\"end\">12.25</text></g></g><g class=\"tick\" transform=\"translate(56.8 680.519)\"><line x1=\"0\" x2=\"-5\" y1=\"0\" y2=\"0\" /><g transform=\"translate(-6 0)\"><text class=\"lab\" text-anchor=\"end\">12.69</text></g></g><g class=\"tick\" transform=\"translate(56.8 636.938)\"><line x1=\"0\" x2=\"-5\" y1=\"0\" y2=\"0\" /><g transform=\"translate(-6 0)\"><text class=\"lab\" text-anchor=\"end\">13.00</text></g></g><g class=\"tick\" transform=\"translate(56.8 593.356)\"><line x1=\"0\" x2=\"-5\" y1=\"0\" y2=\"0\" /><g transform=\"translate(-6 0)\"><text class=\"lab\" text-anchor=\"end\">14.00</text></g></g><g class=\"tick\" transform=\"translate(56.8 549.775)\"><line x1=\"0\" x2=\"-5\" y1=\"0\" y2=\"0\" /><g transform=\"translate(-6 0)\"><text class=\"lab\" text-anchor=\"end\">14.00</text></g></g><g class=\"tick\" transform=\"translate(56.8 506.194)\"><line x1=\"0\" x2=\"-5\" y1=\"0\" y2=\"0\" /><g transform=\"translate(-6 0)\"><text class=\"lab\" text-anchor=\"end\">15.00</text></g></g><g class=\"tick\" transform=\"translate(56.8 462.612)\"><line x1=\"0\" x2=\"-5\" y1=\"0\" y2=\"0\" /><g transform=\"translate(-6 0)\"><text class=\"lab\" text-anchor=\"end\">16.00</text></g></g><g class=\"tick\" transform=\"translate(56.8 419.031)\"><line x1=\"0\" x2=\"-5\" y1=\"0\" y2=\"0\" /><g transform=\"translate(-6 0)\"><text class=\"lab\" text-anchor=\"end\">19.00</text></g></g><g class=\"tick\" transform=\"translate(56.8 375.45)\"><line x1=\"0\" x2=\"-5\" y1=\"0\" y2=\"0\" /><g transform=\"translate(-6 0)\"><text class=\"lab\" text-anchor=\"end\">20.00</text></g></g><g class=\"tick\" transform=\"translate(56.8 331.869)\"><line x1=\"0\" x2=\"-5\" y1=\"0\" y2=\"0\" /><g transform=\"translate(-6 0)\"><text class=\"lab\" text-anchor=\"end\">20.00</text></g></g><g class=\"tick\" transform=\"translate(56.8 288.287)\"><line x1=\"0\" x2=\"-5\" y1=\"0\" y2=\"0\" /><g transform=\"translate(-6 0)\"><text class=\"lab\" text-anchor=\"end\">25.00</text></g></g><g class=\"tick\" transform=\"translate(56.8 244.706)\"><line x1=\"0\" x2=\"-5\" y1=\"0\" y2=\"0\" /><g transform=\"translate(-6 0)\"><text class=\"lab\" text-anchor=\"end\">28.00</text></g></g><g class=\"tick\" transform=\"translate(56.8 201.125)\"><line x1=\"0\" x2=\"-5\" y1=\"0\" y2=\"0\" /><g transform=\"translate(-6 0)\"><text class=\"lab\" text-anchor=\"end\">29.00</text></g></g><g class=\"tick\" transform=\"translate(56.8 157.544)\"><line x1=\"0\" x2=\"-5\" y1=\"0\" y2=\"0\" /><g transform=\"translate(-6 0)\"><text class=\"lab\" text-anchor=\"end\">31.50</text></g></g><g class=\"tick\" transform=\"translate(56.8 113.962)\"><line x1=\"0\" x2=\"-5\" y1=\"0\" y2=\"0\" /><g transform=\"translate(-6 0)\"><text class=\"lab\" text-anchor=\"end\">32.00</text></g></g><g class=\"tick\" transform=\"translate(56.8 70.3812)\"><line x1=\"0\" x2=\"-5\" y1=\"0\" y2=\"0\" /><g transform=\"translate(-6 0)\"><text class=\"lab\" text-anchor=\"end\">49.00</text></g></g><g class=\"tick\" transform=\"translate(56.8 26.8)\"><line x1=\"0\" x2=\"-5\" y1=\"0\" y2=\"0\" /><g transform=\"translate(-6 0)\"><text class=\"lab\" text-anchor=\"end\">50.00</text></g></g></g></g></g><g class=\"plotbox trees\"><g class=\"tree t0\" transform=\"translate(56.8 0)\"><g class=\"plotbox\"><g class=\"c1 node n0 root\" transform=\"translate(495.467 26.8)\"><g class=\"a0 c16 node n1 sample\" transform=\"translate(0.0 43.5812)\"><g class=\"a1 c5 m48 node n5 s25802\" transform=\"translate(-165.282 261.488)\"><g class=\"a5 leaf node n3 sample\" transform=\"translate(-47.5467 43.5812)\"><path class=\"edge\" d=\"M 0 0 V -43.5812 H 47.5467\" /><rect class=\"sym\" height=\"6\" width=\"6\" x=\"-3\" y=\"-3\" /><text class=\"lab\" transform=\"translate(0 11)\">3 B\n",
       "SRR11397727</text></g><g class=\"a5 leaf node n4 sample\" transform=\"translate(-29.4337 43.5812)\"><path class=\"edge\" d=\"M 0 0 V -43.5812 H 29.4337\" /><rect class=\"sym\" height=\"6\" width=\"6\" x=\"-3\" y=\"-3\" /><text class=\"lab\" transform=\"translate(0 11)\">4 B\n",
       "SRR11397730</text></g><g class=\"a5 leaf node n6 sample\" transform=\"translate(-11.3207 87.1625)\"><path class=\"edge\" d=\"M 0 0 V -87.1625 H 11.3207\" /><rect class=\"sym\" height=\"6\" width=\"6\" x=\"-3\" y=\"-3\" /><text class=\"lab\" transform=\"translate(0 11)\">6 B\n",
       "SRR11397726</text></g><g class=\"a5 leaf node n7 sample\" transform=\"translate(6.79239 87.1625)\"><path class=\"edge\" d=\"M 0 0 V -87.1625 H -6.79239\" /><rect class=\"sym\" height=\"6\" width=\"6\" x=\"-3\" y=\"-3\" /><text class=\"lab\" transform=\"translate(0 11)\">7 B\n",
       "SRR11397729</text></g><g class=\"a5 c2 m32 node n61 s14594\" transform=\"translate(47.5467 479.394)\"><g class=\"a61 c2 m12 m13 node n54 s2397 s2475 sample\" transform=\"translate(-13.5848 479.394)\"><g class=\"a54 leaf node n58 sample\" transform=\"translate(-9.05652 130.744)\"><path class=\"edge\" d=\"M 0 0 V -130.744 H 9.05652\" /><rect class=\"sym\" height=\"6\" width=\"6\" x=\"-3\" y=\"-3\" /><text class=\"lab\" transform=\"translate(0 11)\">58 B.40\n",
       "ERR4205570</text></g><g class=\"a54 leaf m52 node n60 s26649 sample\" transform=\"translate(9.05652 130.744)\"><path class=\"edge\" d=\"M 0 0 V -130.744 H -9.05652\" /><g class=\"mut m52 s26649\" transform=\"translate(0 -65.3719)\"><line x1=\"0\" x2=\"0\" y1=\"0\" y2=\"65.3719\" /><path class=\"sym\" d=\"M -3,-3 l 6,6 M -3,3 l 6,-6\" /><text class=\"lab rgt\" transform=\"translate(5 0)\">C26994T</text></g><rect class=\"sym\" height=\"6\" width=\"6\" x=\"-3\" y=\"-3\" /><text class=\"lab\" transform=\"translate(0 11)\">60 B.40\n",
       "ERR4206593</text></g><path class=\"edge\" d=\"M 0 0 V -479.394 H 13.5848\" /><g class=\"mut m12 s2397\" transform=\"translate(0 -319.596)\"><line x1=\"0\" x2=\"0\" y1=\"0\" y2=\"319.596\" /><path class=\"sym\" d=\"M -3,-3 l 6,6 M -3,3 l 6,-6\" /><text class=\"lab lft\" transform=\"translate(-5 0)\">A2480G</text></g><g class=\"mut m13 s2475\" transform=\"translate(0 -159.798)\"><line x1=\"0\" x2=\"0\" y1=\"0\" y2=\"159.798\" /><path class=\"sym\" d=\"M -3,-3 l 6,6 M -3,3 l 6,-6\" /><text class=\"lab lft\" transform=\"translate(-5 0)\">C2558T</text></g><rect class=\"sym\" height=\"6\" width=\"6\" x=\"-3\" y=\"-3\" /><text class=\"lab lft\" transform=\"translate(-3 -7.0)\">54 B.40\n",
       "ERR4206180</text></g><g class=\"a61 leaf m37 node n59 s17010 sample\" transform=\"translate(13.5848 610.138)\"><path class=\"edge\" d=\"M 0 0 V -610.138 H -13.5848\" /><g class=\"mut m37 s17010\" transform=\"translate(0 -305.069)\"><line x1=\"0\" x2=\"0\" y1=\"0\" y2=\"305.069\" /><path class=\"sym\" d=\"M -3,-3 l 6,6 M -3,3 l 6,-6\" /><text class=\"lab rgt\" transform=\"translate(5 0)\">T17247C</text></g><rect class=\"sym\" height=\"6\" width=\"6\" x=\"-3\" y=\"-3\" /><text class=\"lab\" transform=\"translate(0 11)\">59 B.33\n",
       "ERR4204459</text></g><path class=\"edge\" d=\"M 0 0 V -479.394 H -47.5467\" /><g class=\"mut m32 s14594\" transform=\"translate(0 -239.697)\"><line x1=\"0\" x2=\"0\" y1=\"0\" y2=\"239.697\" /><path class=\"sym\" d=\"M -3,-3 l 6,6 M -3,3 l 6,-6\" /><text class=\"lab rgt\" transform=\"translate(5 0)\">C14805T</text></g><circle class=\"sym\" cx=\"0\" cy=\"0\" r=\"3\" /><text class=\"lab rgt\" transform=\"translate(3 -7.0)\">61</text></g><path class=\"edge\" d=\"M 0 0 V -261.488 H 165.282\" /><g class=\"mut m48 s25802\" transform=\"translate(0 -130.744)\"><line x1=\"0\" x2=\"0\" y1=\"0\" y2=\"130.744\" /><path class=\"sym\" d=\"M -3,-3 l 6,6 M -3,3 l 6,-6\" /><text class=\"lab rgt\" transform=\"translate(5 0)\">G26144T</text></g><circle class=\"sym\" cx=\"0\" cy=\"0\" r=\"3\" /><text class=\"lab rgt\" transform=\"translate(3 -7.0)\">5</text></g><g class=\"a1 c13 m23 m56 node n9 s27786 s8632\" transform=\"translate(-348.676 174.325)\"><g class=\"a9 leaf m39 node n2 s17816 sample\" transform=\"translate(-117.735 43.5812)\"><path class=\"edge\" d=\"M 0 0 V -43.5812 H 117.735\" /><g class=\"mut m39 s17816\" transform=\"translate(0 -21.7906)\"><line x1=\"0\" x2=\"0\" y1=\"0\" y2=\"21.7906\" /><path class=\"sym\" d=\"M -3,-3 l 6,6 M -3,3 l 6,-6\" /><text class=\"lab lft\" transform=\"translate(-5 0)\">C18060T</text></g><rect class=\"sym\" height=\"6\" width=\"6\" x=\"-3\" y=\"-3\" /><text class=\"lab\" transform=\"translate(0 11)\">2 A\n",
       "SRR11772659</text></g><g class=\"a9 c1 m60 m65 node n8 s28514 s29362 sample\" transform=\"translate(90.5652 174.325)\"><g class=\"a8 c2 m27 node n50 s9875\" transform=\"translate(0.0 784.463)\"><g class=\"a50 leaf node n48 sample\" transform=\"translate(-9.05652 43.5812)\"><path class=\"edge\" d=\"M 0 0 V -43.5812 H 9.05652\" /><rect class=\"sym\" height=\"6\" width=\"6\" x=\"-3\" y=\"-3\" /><text class=\"lab\" transform=\"translate(0 11)\">48 A\n",
       "SRR11397718</text></g><g class=\"a50 leaf node n49 sample\" transform=\"translate(9.05652 43.5812)\"><path class=\"edge\" d=\"M 0 0 V -43.5812 H -9.05652\" /><rect class=\"sym\" height=\"6\" width=\"6\" x=\"-3\" y=\"-3\" /><text class=\"lab\" transform=\"translate(0 11)\">49 A\n",
       "SRR11397722</text></g><path class=\"edge\" d=\"M 0 0 V -784.463 H 0.0\" /><g class=\"mut m27 s9875\" transform=\"translate(0 -392.231)\"><line x1=\"0\" x2=\"0\" y1=\"0\" y2=\"392.231\" /><path class=\"sym\" d=\"M -3,-3 l 6,6 M -3,3 l 6,-6\" /><text class=\"lab lft\" transform=\"translate(-5 0)\">C10038T</text></g><circle class=\"sym\" cx=\"0\" cy=\"0\" r=\"3\" /><text class=\"lab lft\" transform=\"translate(-3 -7.0)\">50</text></g><path class=\"edge\" d=\"M 0 0 V -174.325 H -90.5652\" /><g class=\"mut m60 s28514\" transform=\"translate(0 -116.217)\"><line x1=\"0\" x2=\"0\" y1=\"0\" y2=\"116.217\" /><path class=\"sym\" d=\"M -3,-3 l 6,6 M -3,3 l 6,-6\" /><text class=\"lab rgt\" transform=\"translate(5 0)\">G28878A</text></g><g class=\"mut m65 s29362\" transform=\"translate(0 -58.1083)\"><line x1=\"0\" x2=\"0\" y1=\"0\" y2=\"58.1083\" /><path class=\"sym\" d=\"M -3,-3 l 6,6 M -3,3 l 6,-6\" /><text class=\"lab rgt\" transform=\"translate(5 0)\">G29742A</text></g><rect class=\"sym\" height=\"6\" width=\"6\" x=\"-3\" y=\"-3\" /><text class=\"lab rgt\" transform=\"translate(3 -7.0)\">8 A\n",
       "SRR11597198</text></g><g class=\"a9 leaf node n12 sample\" transform=\"translate(-99.6217 261.488)\"><path class=\"edge\" d=\"M 0 0 V -261.488 H 99.6217\" /><rect class=\"sym\" height=\"6\" width=\"6\" x=\"-3\" y=\"-3\" /><text class=\"lab\" transform=\"translate(0 11)\">12 A\n",
       "SRR11597132</text></g><g class=\"a9 leaf m16 m42 node n13 s21570 s3089 sample\" transform=\"translate(-81.5087 261.488)\"><path class=\"edge\" d=\"M 0 0 V -261.488 H 81.5087\" /><g class=\"mut m16 s3089\" transform=\"translate(0 -174.325)\"><line x1=\"0\" x2=\"0\" y1=\"0\" y2=\"174.325\" /><path class=\"sym\" d=\"M -3,-3 l 6,6 M -3,3 l 6,-6\" /><text class=\"lab rgt\" transform=\"translate(5 0)\">C3176T</text></g><g class=\"mut m42 s21570\" transform=\"translate(0 -87.1625)\"><line x1=\"0\" x2=\"0\" y1=\"0\" y2=\"87.1625\" /><path class=\"sym\" d=\"M -3,-3 l 6,6 M -3,3 l 6,-6\" /><text class=\"lab rgt\" transform=\"translate(5 0)\">C21855T</text></g><rect class=\"sym\" height=\"6\" width=\"6\" x=\"-3\" y=\"-3\" /><text class=\"lab\" transform=\"translate(0 11)\">13 A\n",
       "SRR11597121</text></g><g class=\"a9 leaf node n15 sample\" transform=\"translate(-63.3957 348.65)\"><path class=\"edge\" d=\"M 0 0 V -348.65 H 63.3957\" /><rect class=\"sym\" height=\"6\" width=\"6\" x=\"-3\" y=\"-3\" /><text class=\"lab\" transform=\"translate(0 11)\">15 A\n",
       "SRR11597177</text></g><g class=\"a9 leaf m11 m67 node n21 s2393 s29363 sample\" transform=\"translate(-45.2826 392.231)\"><path class=\"edge\" d=\"M 0 0 V -392.231 H 45.2826\" /><g class=\"mut m11 s2393\" transform=\"translate(0 -261.487)\"><line x1=\"0\" x2=\"0\" y1=\"0\" y2=\"261.487\" /><path class=\"sym\" d=\"M -3,-3 l 6,6 M -3,3 l 6,-6\" /><text class=\"lab rgt\" transform=\"translate(5 0)\">A2476G</text></g><g class=\"mut m67 s29363\" transform=\"translate(0 -130.744)\"><line x1=\"0\" x2=\"0\" y1=\"0\" y2=\"130.744\" /><path class=\"sym\" d=\"M -3,-3 l 6,6 M -3,3 l 6,-6\" /><text class=\"lab rgt\" transform=\"translate(5 0)\">C29743T</text></g><rect class=\"sym\" height=\"6\" width=\"6\" x=\"-3\" y=\"-3\" /><text class=\"lab\" transform=\"translate(0 11)\">21 A\n",
       "SRR11494548</text></g><g class=\"a9 leaf m45 m51 m55 node n22 s23710 s26384 s27719 sample\" transform=\"translate(-27.1696 610.138)\"><path class=\"edge\" d=\"M 0 0 V -610.138 H 27.1696\" /><g class=\"mut m45 s23710\" transform=\"translate(0 -457.603)\"><line x1=\"0\" x2=\"0\" y1=\"0\" y2=\"457.603\" /><path class=\"sym\" d=\"M -3,-3 l 6,6 M -3,3 l 6,-6\" /><text class=\"lab rgt\" transform=\"translate(5 0)\">C24034T</text></g><g class=\"mut m51 s26384\" transform=\"translate(0 -305.069)\"><line x1=\"0\" x2=\"0\" y1=\"0\" y2=\"305.069\" /><path class=\"sym\" d=\"M -3,-3 l 6,6 M -3,3 l 6,-6\" /><text class=\"lab rgt\" transform=\"translate(5 0)\">T26729C</text></g><g class=\"mut m55 s27719\" transform=\"translate(0 -152.534)\"><line x1=\"0\" x2=\"0\" y1=\"0\" y2=\"152.534\" /><path class=\"sym\" d=\"M -3,-3 l 6,6 M -3,3 l 6,-6\" /><text class=\"lab rgt\" transform=\"translate(5 0)\">G28077C</text></g><rect class=\"sym\" height=\"6\" width=\"6\" x=\"-3\" y=\"-3\" /><text class=\"lab\" transform=\"translate(0 11)\">22 A\n",
       "SRR11597140</text></g><g class=\"a9 leaf m25 node n23 s9314 sample\" transform=\"translate(-9.05652 610.138)\"><path class=\"edge\" d=\"M 0 0 V -610.138 H 9.05652\" /><g class=\"mut m25 s9314\" transform=\"translate(0 -305.069)\"><line x1=\"0\" x2=\"0\" y1=\"0\" y2=\"305.069\" /><path class=\"sym\" d=\"M -3,-3 l 6,6 M -3,3 l 6,-6\" /><text class=\"lab rgt\" transform=\"translate(5 0)\">T9477A</text></g><rect class=\"sym\" height=\"6\" width=\"6\" x=\"-3\" y=\"-3\" /><text class=\"lab\" transform=\"translate(0 11)\">23 A\n",
       "SRR11597151</text></g><g class=\"a9 leaf m1 m22 m28 m5 node n30 s11253 s147 s6240 s876 sample\" transform=\"translate(9.05652 653.719)\"><path class=\"edge\" d=\"M 0 0 V -653.719 H -9.05652\" /><g class=\"mut m1 s147\" transform=\"translate(0 -522.975)\"><line x1=\"0\" x2=\"0\" y1=\"0\" y2=\"522.975\" /><path class=\"sym\" d=\"M -3,-3 l 6,6 M -3,3 l 6,-6\" /><text class=\"lab rgt\" transform=\"translate(5 0)\">C207T</text></g><g class=\"mut m5 s876\" transform=\"translate(0 -392.231)\"><line x1=\"0\" x2=\"0\" y1=\"0\" y2=\"392.231\" /><path class=\"sym\" d=\"M -3,-3 l 6,6 M -3,3 l 6,-6\" /><text class=\"lab rgt\" transform=\"translate(5 0)\">T946C</text></g><g class=\"mut m22 s6240\" transform=\"translate(0 -261.488)\"><line x1=\"0\" x2=\"0\" y1=\"0\" y2=\"261.488\" /><path class=\"sym\" d=\"M -3,-3 l 6,6 M -3,3 l 6,-6\" /><text class=\"lab rgt\" transform=\"translate(5 0)\">C6363T</text></g><g class=\"mut m28 s11253\" transform=\"translate(0 -130.744)\"><line x1=\"0\" x2=\"0\" y1=\"0\" y2=\"130.744\" /><path class=\"sym\" d=\"M -3,-3 l 6,6 M -3,3 l 6,-6\" /><text class=\"lab rgt\" transform=\"translate(5 0)\">A11430G</text></g><rect class=\"sym\" height=\"6\" width=\"6\" x=\"-3\" y=\"-3\" /><text class=\"lab\" transform=\"translate(0 11)\">30 A\n",
       "SRR11597195</text></g><g class=\"a9 leaf m19 m26 m40 node n33 s20257 s4557 s9727 sample\" transform=\"translate(27.1696 697.3)\"><path class=\"edge\" d=\"M 0 0 V -697.3 H -27.1696\" /><g class=\"mut m19 s4557\" transform=\"translate(0 -522.975)\"><line x1=\"0\" x2=\"0\" y1=\"0\" y2=\"522.975\" /><path class=\"sym\" d=\"M -3,-3 l 6,6 M -3,3 l 6,-6\" /><text class=\"lab rgt\" transform=\"translate(5 0)\">C4655T</text></g><g class=\"mut m26 s9727\" transform=\"translate(0 -348.65)\"><line x1=\"0\" x2=\"0\" y1=\"0\" y2=\"348.65\" /><path class=\"sym\" d=\"M -3,-3 l 6,6 M -3,3 l 6,-6\" /><text class=\"lab rgt\" transform=\"translate(5 0)\">G9890T</text></g><g class=\"mut m40 s20257\" transform=\"translate(0 -174.325)\"><line x1=\"0\" x2=\"0\" y1=\"0\" y2=\"174.325\" /><path class=\"sym\" d=\"M -3,-3 l 6,6 M -3,3 l 6,-6\" /><text class=\"lab rgt\" transform=\"translate(5 0)\">G20527T</text></g><rect class=\"sym\" height=\"6\" width=\"6\" x=\"-3\" y=\"-3\" /><text class=\"lab\" transform=\"translate(0 11)\">33 A\n",
       "SRR11597191</text></g><g class=\"a9 leaf node n40 sample\" transform=\"translate(45.2826 828.044)\"><path class=\"edge\" d=\"M 0 0 V -828.044 H -45.2826\" /><rect class=\"sym\" height=\"6\" width=\"6\" x=\"-3\" y=\"-3\" /><text class=\"lab\" transform=\"translate(0 11)\">40 A\n",
       "SRR11597156</text></g><g class=\"a9 leaf m61 node n46 s28722 sample\" transform=\"translate(63.3957 915.206)\"><path class=\"edge\" d=\"M 0 0 V -915.206 H -63.3957\" /><g class=\"mut m61 s28722\" transform=\"translate(0 -457.603)\"><line x1=\"0\" x2=\"0\" y1=\"0\" y2=\"457.603\" /><path class=\"sym\" d=\"M -3,-3 l 6,6 M -3,3 l 6,-6\" /><text class=\"lab rgt\" transform=\"translate(5 0)\">C29095T</text></g><rect class=\"sym\" height=\"6\" width=\"6\" x=\"-3\" y=\"-3\" /><text class=\"lab\" transform=\"translate(0 11)\">46 A\n",
       "SRR11597146</text></g><g class=\"a9 leaf m3 node n57 s228 sample\" transform=\"translate(117.735 1133.11)\"><path class=\"edge\" d=\"M 0 0 V -1133.11 H -117.735\" /><g class=\"mut m3 s228\" transform=\"translate(0 -566.556)\"><line x1=\"0\" x2=\"0\" y1=\"0\" y2=\"566.556\" /><path class=\"sym\" d=\"M -3,-3 l 6,6 M -3,3 l 6,-6\" /><text class=\"lab rgt\" transform=\"translate(5 0)\">C289T</text></g><rect class=\"sym\" height=\"6\" width=\"6\" x=\"-3\" y=\"-3\" /><text class=\"lab\" transform=\"translate(0 11)\">57 A\n",
       "SRR11597218</text></g><path class=\"edge\" d=\"M 0 0 V -174.325 H 348.676\" /><g class=\"mut m23 s8632\" transform=\"translate(0 -116.217)\"><line x1=\"0\" x2=\"0\" y1=\"0\" y2=\"116.217\" /><path class=\"sym\" d=\"M -3,-3 l 6,6 M -3,3 l 6,-6\" /><text class=\"lab lft\" transform=\"translate(-5 0)\">C8782T</text></g><g class=\"mut m56 s27786\" transform=\"translate(0 -58.1083)\"><line x1=\"0\" x2=\"0\" y1=\"0\" y2=\"58.1083\" /><path class=\"sym\" d=\"M -3,-3 l 6,6 M -3,3 l 6,-6\" /><text class=\"lab lft\" transform=\"translate(-5 0)\">T28144C</text></g><circle class=\"sym\" cx=\"0\" cy=\"0\" r=\"3\" /><text class=\"lab lft\" transform=\"translate(-3 -7.0)\">9</text></g><g class=\"a1 leaf m0 m33 m41 m50 node n10 s143 s14676 s21422 s26191 sample\" transform=\"translate(-86.037 392.231)\"><path class=\"edge\" d=\"M 0 0 V -392.231 H 86.037\" /><g class=\"mut m0 s143\" transform=\"translate(0 -313.785)\"><line x1=\"0\" x2=\"0\" y1=\"0\" y2=\"313.785\" /><path class=\"sym\" d=\"M -3,-3 l 6,6 M -3,3 l 6,-6\" /><text class=\"lab rgt\" transform=\"translate(5 0)\">C203T</text></g><g class=\"mut m33 s14676\" transform=\"translate(0 -235.339)\"><line x1=\"0\" x2=\"0\" y1=\"0\" y2=\"235.339\" /><path class=\"sym\" d=\"M -3,-3 l 6,6 M -3,3 l 6,-6\" /><text class=\"lab rgt\" transform=\"translate(5 0)\">C14889T</text></g><g class=\"mut m41 s21422\" transform=\"translate(0 -156.892)\"><line x1=\"0\" x2=\"0\" y1=\"0\" y2=\"156.892\" /><path class=\"sym\" d=\"M -3,-3 l 6,6 M -3,3 l 6,-6\" /><text class=\"lab rgt\" transform=\"translate(5 0)\">C21707T</text></g><g class=\"mut m50 s26191\" transform=\"translate(0 -78.4462)\"><line x1=\"0\" x2=\"0\" y1=\"0\" y2=\"78.4462\" /><path class=\"sym\" d=\"M -3,-3 l 6,6 M -3,3 l 6,-6\" /><text class=\"lab rgt\" transform=\"translate(5 0)\">C26533T</text></g><rect class=\"sym\" height=\"6\" width=\"6\" x=\"-3\" y=\"-3\" /><text class=\"lab\" transform=\"translate(0 11)\">10 B\n",
       "SRR11597143</text></g><g class=\"a1 leaf m46 node n11 s24046 sample\" transform=\"translate(-67.9239 392.231)\"><path class=\"edge\" d=\"M 0 0 V -392.231 H 67.9239\" /><g class=\"mut m46 s24046\" transform=\"translate(0 -196.116)\"><line x1=\"0\" x2=\"0\" y1=\"0\" y2=\"196.116\" /><path class=\"sym\" d=\"M -3,-3 l 6,6 M -3,3 l 6,-6\" /><text class=\"lab rgt\" transform=\"translate(5 0)\">C24370T</text></g><rect class=\"sym\" height=\"6\" width=\"6\" x=\"-3\" y=\"-3\" /><text class=\"lab\" transform=\"translate(0 11)\">11 B\n",
       "SRR11597154</text></g><g class=\"a1 c2 m47 node n26 s24874\" transform=\"translate(104.15 697.3)\"><g class=\"a26 leaf node n24 sample\" transform=\"translate(-9.05652 87.1625)\"><path class=\"edge\" d=\"M 0 0 V -87.1625 H 9.05652\" /><rect class=\"sym\" height=\"6\" width=\"6\" x=\"-3\" y=\"-3\" /><text class=\"lab\" transform=\"translate(0 11)\">24 B\n",
       "SRR11597144</text></g><g class=\"a26 leaf m24 node n25 s9280 sample\" transform=\"translate(9.05652 87.1625)\"><path class=\"edge\" d=\"M 0 0 V -87.1625 H -9.05652\" /><g class=\"mut m24 s9280\" transform=\"translate(0 -43.5812)\"><line x1=\"0\" x2=\"0\" y1=\"0\" y2=\"43.5812\" /><path class=\"sym\" d=\"M -3,-3 l 6,6 M -3,3 l 6,-6\" /><text class=\"lab rgt\" transform=\"translate(5 0)\">C9442T</text></g><rect class=\"sym\" height=\"6\" width=\"6\" x=\"-3\" y=\"-3\" /><text class=\"lab\" transform=\"translate(0 11)\">25 B\n",
       "SRR11597153</text></g><path class=\"edge\" d=\"M 0 0 V -697.3 H -104.15\" /><g class=\"mut m47 s24874\" transform=\"translate(0 -348.65)\"><line x1=\"0\" x2=\"0\" y1=\"0\" y2=\"348.65\" /><path class=\"sym\" d=\"M -3,-3 l 6,6 M -3,3 l 6,-6\" /><text class=\"lab rgt\" transform=\"translate(5 0)\">T25209C</text></g><circle class=\"sym\" cx=\"0\" cy=\"0\" r=\"3\" /><text class=\"lab rgt\" transform=\"translate(3 -7.0)\">26</text></g><g class=\"a1 leaf m59 m8 node n28 s1475 s28481 sample\" transform=\"translate(131.32 828.044)\"><path class=\"edge\" d=\"M 0 0 V -828.044 H -131.32\" /><g class=\"mut m8 s1475\" transform=\"translate(0 -552.029)\"><line x1=\"0\" x2=\"0\" y1=\"0\" y2=\"552.029\" /><path class=\"sym\" d=\"M -3,-3 l 6,6 M -3,3 l 6,-6\" /><text class=\"lab rgt\" transform=\"translate(5 0)\">A1547-</text></g><g class=\"mut m59 s28481\" transform=\"translate(0 -276.015)\"><line x1=\"0\" x2=\"0\" y1=\"0\" y2=\"276.015\" /><path class=\"sym\" d=\"M -3,-3 l 6,6 M -3,3 l 6,-6\" /><text class=\"lab rgt\" transform=\"translate(5 0)\">G28845T</text></g><rect class=\"sym\" height=\"6\" width=\"6\" x=\"-3\" y=\"-3\" /><text class=\"lab\" transform=\"translate(0 11)\">28 B\n",
       "SRR11597164</text></g><g class=\"a1 leaf m17 node n29 s3676 sample\" transform=\"translate(149.433 828.044)\"><path class=\"edge\" d=\"M 0 0 V -828.044 H -149.433\" /><g class=\"mut m17 s3676\" transform=\"translate(0 -414.022)\"><line x1=\"0\" x2=\"0\" y1=\"0\" y2=\"414.022\" /><path class=\"sym\" d=\"M -3,-3 l 6,6 M -3,3 l 6,-6\" /><text class=\"lab rgt\" transform=\"translate(5 0)\">C3768T</text></g><rect class=\"sym\" height=\"6\" width=\"6\" x=\"-3\" y=\"-3\" /><text class=\"lab\" transform=\"translate(0 11)\">29 B\n",
       "SRR11597190</text></g><g class=\"a1 c2 m38 node n31 s17136\" transform=\"translate(-40.7543 43.5812)\"><g class=\"a31 leaf m30 node n14 s12710 sample\" transform=\"translate(-9.05652 392.231)\"><path class=\"edge\" d=\"M 0 0 V -392.231 H 9.05652\" /><g class=\"mut m30 s12710\" transform=\"translate(0 -196.116)\"><line x1=\"0\" x2=\"0\" y1=\"0\" y2=\"196.116\" /><path class=\"sym\" d=\"M -3,-3 l 6,6 M -3,3 l 6,-6\" /><text class=\"lab lft\" transform=\"translate(-5 0)\">C12896T</text></g><rect class=\"sym\" height=\"6\" width=\"6\" x=\"-3\" y=\"-3\" /><text class=\"lab\" transform=\"translate(0 11)\">14 B\n",
       "SRR11597220</text></g><g class=\"a31 leaf m21 m58 node n27 s28466 s5134 sample\" transform=\"translate(9.05652 784.463)\"><path class=\"edge\" d=\"M 0 0 V -784.463 H -9.05652\" /><g class=\"mut m21 s5134\" transform=\"translate(0 -522.975)\"><line x1=\"0\" x2=\"0\" y1=\"0\" y2=\"522.975\" /><path class=\"sym\" d=\"M -3,-3 l 6,6 M -3,3 l 6,-6\" /><text class=\"lab rgt\" transform=\"translate(5 0)\">C5239T</text></g><g class=\"mut m58 s28466\" transform=\"translate(0 -261.488)\"><line x1=\"0\" x2=\"0\" y1=\"0\" y2=\"261.488\" /><path class=\"sym\" d=\"M -3,-3 l 6,6 M -3,3 l 6,-6\" /><text class=\"lab rgt\" transform=\"translate(5 0)\">C28830A</text></g><rect class=\"sym\" height=\"6\" width=\"6\" x=\"-3\" y=\"-3\" /><text class=\"lab\" transform=\"translate(0 11)\">27 B\n",
       "SRR11597114</text></g><path class=\"edge\" d=\"M 0 0 V -43.5812 H 40.7543\" /><g class=\"mut m38 s17136\" transform=\"translate(0 -21.7906)\"><line x1=\"0\" x2=\"0\" y1=\"0\" y2=\"21.7906\" /><path class=\"sym\" d=\"M -3,-3 l 6,6 M -3,3 l 6,-6\" /><text class=\"lab rgt\" transform=\"translate(5 0)\">C17373T</text></g><circle class=\"sym\" cx=\"0\" cy=\"0\" r=\"3\" /><text class=\"lab rgt\" transform=\"translate(3 -7.0)\">31</text></g><g class=\"a1 c2 m15 node n34 s2953\" transform=\"translate(40.7543 87.1625)\"><g class=\"a34 c4 m36 m53 m54 node n20 s16841 s26867 s27038\" transform=\"translate(-27.1696 392.231)\"><g class=\"a20 leaf node n16 sample\" transform=\"translate(-27.1696 43.5813)\"><path class=\"edge\" d=\"M 0 0 V -43.5813 H 27.1696\" /><rect class=\"sym\" height=\"6\" width=\"6\" x=\"-3\" y=\"-3\" /><text class=\"lab\" transform=\"translate(0 11)\">16 B\n",
       "SRR12162232</text></g><g class=\"a20 leaf node n17 sample\" transform=\"translate(-9.05652 43.5813)\"><path class=\"edge\" d=\"M 0 0 V -43.5813 H 9.05652\" /><rect class=\"sym\" height=\"6\" width=\"6\" x=\"-3\" y=\"-3\" /><text class=\"lab\" transform=\"translate(0 11)\">17 B.1\n",
       "SRR12162233</text></g><g class=\"a20 leaf node n18 sample\" transform=\"translate(9.05652 43.5813)\"><path class=\"edge\" d=\"M 0 0 V -43.5813 H -9.05652\" /><rect class=\"sym\" height=\"6\" width=\"6\" x=\"-3\" y=\"-3\" /><text class=\"lab\" transform=\"translate(0 11)\">18 B.1\n",
       "SRR12162234</text></g><g class=\"a20 leaf node n19 sample\" transform=\"translate(27.1696 43.5813)\"><path class=\"edge\" d=\"M 0 0 V -43.5813 H -27.1696\" /><rect class=\"sym\" height=\"6\" width=\"6\" x=\"-3\" y=\"-3\" /><text class=\"lab\" transform=\"translate(0 11)\">19 B\n",
       "SRR12162235</text></g><path class=\"edge\" d=\"M 0 0 V -392.231 H 27.1696\" /><g class=\"mut m36 s16841\" transform=\"translate(0 -294.173)\"><line x1=\"0\" x2=\"0\" y1=\"0\" y2=\"294.173\" /><path class=\"sym\" d=\"M -3,-3 l 6,6 M -3,3 l 6,-6\" /><text class=\"lab lft\" transform=\"translate(-5 0)\">C17074T</text></g><g class=\"mut m53 s26867\" transform=\"translate(0 -196.116)\"><line x1=\"0\" x2=\"0\" y1=\"0\" y2=\"196.116\" /><path class=\"sym\" d=\"M -3,-3 l 6,6 M -3,3 l 6,-6\" /><text class=\"lab lft\" transform=\"translate(-5 0)\">C27213T</text></g><g class=\"mut m54 s27038\" transform=\"translate(0 -98.0578)\"><line x1=\"0\" x2=\"0\" y1=\"0\" y2=\"98.0578\" /><path class=\"sym\" d=\"M -3,-3 l 6,6 M -3,3 l 6,-6\" /><text class=\"lab lft\" transform=\"translate(-5 0)\">T27384C</text></g><circle class=\"sym\" cx=\"0\" cy=\"0\" r=\"3\" /><text class=\"lab lft\" transform=\"translate(-3 -7.0)\">20</text></g><g class=\"a34 c2 m2 m44 node n44 s181 s23087\" transform=\"translate(27.1696 522.975)\"><g class=\"a44 leaf m31 node n32 s14201 sample\" transform=\"translate(-9.05652 261.487)\"><path class=\"edge\" d=\"M 0 0 V -261.487 H 9.05652\" /><g class=\"mut m31 s14201\" transform=\"translate(0 -130.744)\"><line x1=\"0\" x2=\"0\" y1=\"0\" y2=\"130.744\" /><path class=\"sym\" d=\"M -3,-3 l 6,6 M -3,3 l 6,-6\" /><text class=\"lab lft\" transform=\"translate(-5 0)\">C14408T</text></g><rect class=\"sym\" height=\"6\" width=\"6\" x=\"-3\" y=\"-3\" /><text class=\"lab\" transform=\"translate(0 11)\">32 B.1\n",
       "ERR4239266</text></g><g class=\"a44 leaf node n43 sample\" transform=\"translate(9.05652 435.813)\"><path class=\"edge\" d=\"M 0 0 V -435.813 H -9.05652\" /><rect class=\"sym\" height=\"6\" width=\"6\" x=\"-3\" y=\"-3\" /><text class=\"lab\" transform=\"translate(0 11)\">43 B.1\n",
       "SRR11597196</text></g><path class=\"edge\" d=\"M 0 0 V -522.975 H -27.1696\" /><g class=\"mut m2 s181\" transform=\"translate(0 -348.65)\"><line x1=\"0\" x2=\"0\" y1=\"0\" y2=\"348.65\" /><path class=\"sym\" d=\"M -3,-3 l 6,6 M -3,3 l 6,-6\" /><text class=\"lab rgt\" transform=\"translate(5 0)\">C241T</text></g><g class=\"mut m44 s23087\" transform=\"translate(0 -174.325)\"><line x1=\"0\" x2=\"0\" y1=\"0\" y2=\"174.325\" /><path class=\"sym\" d=\"M -3,-3 l 6,6 M -3,3 l 6,-6\" /><text class=\"lab rgt\" transform=\"translate(5 0)\">A23403G</text></g><circle class=\"sym\" cx=\"0\" cy=\"0\" r=\"3\" /><text class=\"lab rgt\" transform=\"translate(3 -7.0)\">44</text></g><path class=\"edge\" d=\"M 0 0 V -87.1625 H -40.7543\" /><g class=\"mut m15 s2953\" transform=\"translate(0 -43.5813)\"><line x1=\"0\" x2=\"0\" y1=\"0\" y2=\"43.5813\" /><path class=\"sym\" d=\"M -3,-3 l 6,6 M -3,3 l 6,-6\" /><text class=\"lab rgt\" transform=\"translate(5 0)\">C3037T</text></g><circle class=\"sym\" cx=\"0\" cy=\"0\" r=\"3\" /><text class=\"lab rgt\" transform=\"translate(3 -7.0)\">34</text></g><g class=\"a1 leaf m14 m18 m4 node n36 s2943 s3694 s801 sample\" transform=\"translate(203.772 958.788)\"><path class=\"edge\" d=\"M 0 0 V -958.788 H -203.772\" /><g class=\"mut m4 s801\" transform=\"translate(0 -719.091)\"><line x1=\"0\" x2=\"0\" y1=\"0\" y2=\"719.091\" /><path class=\"sym\" d=\"M -3,-3 l 6,6 M -3,3 l 6,-6\" /><text class=\"lab rgt\" transform=\"translate(5 0)\">A871G</text></g><g class=\"mut m14 s2943\" transform=\"translate(0 -479.394)\"><line x1=\"0\" x2=\"0\" y1=\"0\" y2=\"479.394\" /><path class=\"sym\" d=\"M -3,-3 l 6,6 M -3,3 l 6,-6\" /><text class=\"lab rgt\" transform=\"translate(5 0)\">A3027G</text></g><g class=\"mut m18 s3694\" transform=\"translate(0 -239.697)\"><line x1=\"0\" x2=\"0\" y1=\"0\" y2=\"239.697\" /><path class=\"sym\" d=\"M -3,-3 l 6,6 M -3,3 l 6,-6\" /><text class=\"lab rgt\" transform=\"translate(5 0)\">C3787T</text></g><rect class=\"sym\" height=\"6\" width=\"6\" x=\"-3\" y=\"-3\" /><text class=\"lab\" transform=\"translate(0 11)\">36 B\n",
       "SRR11597188</text></g><g class=\"a1 c3 m10 node n39 s2211\" transform=\"translate(239.998 915.206)\"><g class=\"a39 leaf node n37 sample\" transform=\"translate(-18.113 43.5812)\"><path class=\"edge\" d=\"M 0 0 V -43.5812 H 18.113\" /><rect class=\"sym\" height=\"6\" width=\"6\" x=\"-3\" y=\"-3\" /><text class=\"lab\" transform=\"translate(0 11)\">37 B\n",
       "SRR11597136</text></g><g class=\"a39 leaf node n38 sample\" transform=\"translate(0.0 43.5812)\"><path class=\"edge\" d=\"M 0 0 V -43.5812 H 0.0\" /><rect class=\"sym\" height=\"6\" width=\"6\" x=\"-3\" y=\"-3\" /><text class=\"lab\" transform=\"translate(0 11)\">38 B\n",
       "SRR11597175</text></g><g class=\"a39 leaf node n56 sample\" transform=\"translate(18.113 392.231)\"><path class=\"edge\" d=\"M 0 0 V -392.231 H -18.113\" /><rect class=\"sym\" height=\"6\" width=\"6\" x=\"-3\" y=\"-3\" /><text class=\"lab\" transform=\"translate(0 11)\">56 B\n",
       "SRR11597207</text></g><path class=\"edge\" d=\"M 0 0 V -915.206 H -239.998\" /><g class=\"mut m10 s2211\" transform=\"translate(0 -457.603)\"><line x1=\"0\" x2=\"0\" y1=\"0\" y2=\"457.603\" /><path class=\"sym\" d=\"M -3,-3 l 6,6 M -3,3 l 6,-6\" /><text class=\"lab rgt\" transform=\"translate(5 0)\">G2293T</text></g><circle class=\"sym\" cx=\"0\" cy=\"0\" r=\"3\" /><text class=\"lab rgt\" transform=\"translate(3 -7.0)\">39</text></g><g class=\"a1 c2 m6 node n45 s1119\" transform=\"translate(176.602 130.744)\"><g class=\"a45 leaf m49 node n35 s25991 sample\" transform=\"translate(-9.05652 828.044)\"><path class=\"edge\" d=\"M 0 0 V -828.044 H 9.05652\" /><g class=\"mut m49 s25991\" transform=\"translate(0 -414.022)\"><line x1=\"0\" x2=\"0\" y1=\"0\" y2=\"414.022\" /><path class=\"sym\" d=\"M -3,-3 l 6,6 M -3,3 l 6,-6\" /><text class=\"lab lft\" transform=\"translate(-5 0)\">C26333T</text></g><rect class=\"sym\" height=\"6\" width=\"6\" x=\"-3\" y=\"-3\" /><text class=\"lab\" transform=\"translate(0 11)\">35 B\n",
       "SRR11597174</text></g><g class=\"a45 leaf node n42 sample\" transform=\"translate(9.05652 915.206)\"><path class=\"edge\" d=\"M 0 0 V -915.206 H -9.05652\" /><rect class=\"sym\" height=\"6\" width=\"6\" x=\"-3\" y=\"-3\" /><text class=\"lab\" transform=\"translate(0 11)\">42 B\n",
       "SRR11597178</text></g><path class=\"edge\" d=\"M 0 0 V -130.744 H -176.602\" /><g class=\"mut m6 s1119\" transform=\"translate(0 -65.3719)\"><line x1=\"0\" x2=\"0\" y1=\"0\" y2=\"65.3719\" /><path class=\"sym\" d=\"M -3,-3 l 6,6 M -3,3 l 6,-6\" /><text class=\"lab rgt\" transform=\"translate(5 0)\">C1190T</text></g><circle class=\"sym\" cx=\"0\" cy=\"0\" r=\"3\" /><text class=\"lab rgt\" transform=\"translate(3 -7.0)\">45</text></g><g class=\"a1 leaf m57 m64 m66 m7 m9 node n47 s1326 s1732 s28325 s29291 s29362 sample\" transform=\"translate(312.45 1089.53)\"><path class=\"edge\" d=\"M 0 0 V -1089.53 H -312.45\" /><g class=\"mut m7 s1326\" transform=\"translate(0 -907.943)\"><line x1=\"0\" x2=\"0\" y1=\"0\" y2=\"907.943\" /><path class=\"sym\" d=\"M -3,-3 l 6,6 M -3,3 l 6,-6\" /><text class=\"lab rgt\" transform=\"translate(5 0)\">G1397A</text></g><g class=\"mut m9 s1732\" transform=\"translate(0 -726.354)\"><line x1=\"0\" x2=\"0\" y1=\"0\" y2=\"726.354\" /><path class=\"sym\" d=\"M -3,-3 l 6,6 M -3,3 l 6,-6\" /><text class=\"lab rgt\" transform=\"translate(5 0)\">G1805A</text></g><g class=\"mut m57 s28325\" transform=\"translate(0 -544.766)\"><line x1=\"0\" x2=\"0\" y1=\"0\" y2=\"544.766\" /><path class=\"sym\" d=\"M -3,-3 l 6,6 M -3,3 l 6,-6\" /><text class=\"lab rgt\" transform=\"translate(5 0)\">T28688C</text></g><g class=\"mut m64 s29291\" transform=\"translate(0 -363.177)\"><line x1=\"0\" x2=\"0\" y1=\"0\" y2=\"363.177\" /><path class=\"sym\" d=\"M -3,-3 l 6,6 M -3,3 l 6,-6\" /><text class=\"lab rgt\" transform=\"translate(5 0)\">C29670T</text></g><g class=\"mut m66 s29362\" transform=\"translate(0 -181.589)\"><line x1=\"0\" x2=\"0\" y1=\"0\" y2=\"181.589\" /><path class=\"sym\" d=\"M -3,-3 l 6,6 M -3,3 l 6,-6\" /><text class=\"lab rgt\" transform=\"translate(5 0)\">G29742T</text></g><rect class=\"sym\" height=\"6\" width=\"6\" x=\"-3\" y=\"-3\" /><text class=\"lab\" transform=\"translate(0 11)\">47 B.4\n",
       "SRR11597150</text></g><g class=\"a1 c2 m34 m62 node n52 s15107 s28930\" transform=\"translate(285.28 653.719)\"><g class=\"a52 leaf m20 node n41 s4923 sample\" transform=\"translate(-9.05652 392.231)\"><path class=\"edge\" d=\"M 0 0 V -392.231 H 9.05652\" /><g class=\"mut m20 s4923\" transform=\"translate(0 -196.116)\"><line x1=\"0\" x2=\"0\" y1=\"0\" y2=\"196.116\" /><path class=\"sym\" d=\"M -3,-3 l 6,6 M -3,3 l 6,-6\" /><text class=\"lab lft\" transform=\"translate(-5 0)\">C5025T</text></g><rect class=\"sym\" height=\"6\" width=\"6\" x=\"-3\" y=\"-3\" /><text class=\"lab\" transform=\"translate(0 11)\">41 B\n",
       "SRR11597168</text></g><g class=\"a52 leaf node n51 sample\" transform=\"translate(9.05652 522.975)\"><path class=\"edge\" d=\"M 0 0 V -522.975 H -9.05652\" /><rect class=\"sym\" height=\"6\" width=\"6\" x=\"-3\" y=\"-3\" /><text class=\"lab\" transform=\"translate(0 11)\">51 B\n",
       "SRR11597163</text></g><path class=\"edge\" d=\"M 0 0 V -653.719 H -285.28\" /><g class=\"mut m34 s15107\" transform=\"translate(0 -435.813)\"><line x1=\"0\" x2=\"0\" y1=\"0\" y2=\"435.813\" /><path class=\"sym\" d=\"M -3,-3 l 6,6 M -3,3 l 6,-6\" /><text class=\"lab rgt\" transform=\"translate(5 0)\">C15324T</text></g><g class=\"mut m62 s28930\" transform=\"translate(0 -217.906)\"><line x1=\"0\" x2=\"0\" y1=\"0\" y2=\"217.906\" /><path class=\"sym\" d=\"M -3,-3 l 6,6 M -3,3 l 6,-6\" /><text class=\"lab rgt\" transform=\"translate(5 0)\">C29303T</text></g><circle class=\"sym\" cx=\"0\" cy=\"0\" r=\"3\" /><text class=\"lab rgt\" transform=\"translate(3 -7.0)\">52</text></g><g class=\"a1 leaf node n53 sample\" transform=\"translate(330.563 1220.28)\"><path class=\"edge\" d=\"M 0 0 V -1220.28 H -330.563\" /><rect class=\"sym\" height=\"6\" width=\"6\" x=\"-3\" y=\"-3\" /><text class=\"lab\" transform=\"translate(0 11)\">53 B\n",
       "SRR11597216</text></g><g class=\"a1 leaf m29 m35 m43 m63 node n55 s11604 s16080 s22925 s29072 sample\" transform=\"translate(348.676 1263.86)\"><path class=\"edge\" d=\"M 0 0 V -1263.86 H -348.676\" /><g class=\"mut m29 s11604\" transform=\"translate(0 -1011.09)\"><line x1=\"0\" x2=\"0\" y1=\"0\" y2=\"1011.09\" /><path class=\"sym\" d=\"M -3,-3 l 6,6 M -3,3 l 6,-6\" /><text class=\"lab rgt\" transform=\"translate(5 0)\">A11782G</text></g><g class=\"mut m35 s16080\" transform=\"translate(0 -758.314)\"><line x1=\"0\" x2=\"0\" y1=\"0\" y2=\"758.314\" /><path class=\"sym\" d=\"M -3,-3 l 6,6 M -3,3 l 6,-6\" /><text class=\"lab rgt\" transform=\"translate(5 0)\">C16308T</text></g><g class=\"mut m43 s22925\" transform=\"translate(0 -505.543)\"><line x1=\"0\" x2=\"0\" y1=\"0\" y2=\"505.543\" /><path class=\"sym\" d=\"M -3,-3 l 6,6 M -3,3 l 6,-6\" /><text class=\"lab rgt\" transform=\"translate(5 0)\">G23236T</text></g><g class=\"mut m63 s29072\" transform=\"translate(0 -252.771)\"><line x1=\"0\" x2=\"0\" y1=\"0\" y2=\"252.771\" /><path class=\"sym\" d=\"M -3,-3 l 6,6 M -3,3 l 6,-6\" /><text class=\"lab rgt\" transform=\"translate(5 0)\">G29449T</text></g><rect class=\"sym\" height=\"6\" width=\"6\" x=\"-3\" y=\"-3\" /><text class=\"lab\" transform=\"translate(0 11)\">55 B\n",
       "SRR11597116</text></g><path class=\"edge\" d=\"M 0 0 V -43.5812 H 0.0\" /><rect class=\"sym\" height=\"6\" width=\"6\" x=\"-3\" y=\"-3\" /><text class=\"lab lft\" transform=\"translate(-3 -7.0)\">1</text></g><circle class=\"sym\" cx=\"0\" cy=\"0\" r=\"3\" /><text class=\"lab\" transform=\"translate(0 -11)\">0</text></g></g></g></g></g></svg>"
      ],
      "text/plain": [
       "'<svg baseProfile=\"full\" height=\"1500\" version=\"1.1\" width=\"950\" xmlns=\"http://www.w3.org/2000/svg\" xmlns:ev=\"http://www.w3.org/2001/xml-events\" xmlns:xlink=\"http://www.w3.org/1999/xlink\"><defs><style type=\"text/css\"><![CDATA[.background path {fill: #808080; fill-opacity: 0}.background path:nth-child(odd) {fill-opacity: .1}.axes {font-size: 14px}.x-axis .tick .lab {font-weight: bold; dominant-baseline: hanging}.axes, .tree {font-size: 14px; text-anchor: middle}.axes line, .edge {stroke: black; fill: none}.axes .ax-skip {stroke-dasharray: 4}.y-axis .grid {stroke: #FAFAFA}.node > .sym {fill: black; stroke: none}.site > .sym {stroke: black}.mut text {fill: red; font-style: italic}.mut.extra text {fill: hotpink}.mut line {fill: none; stroke: none}.mut .sym {fill: none; stroke: red}.mut.extra .sym {stroke: hotpink}.node .mut .sym {stroke-width: 1.5px}.tree text, .tree-sequence text {dominant-baseline: central}.plotbox .lab.lft {text-anchor: end}.plotbox .lab.rgt {text-anchor: start}.mut > .lab {font-size: 80%; transform: rotate(-25deg) translate(0px)}.node > .lab {font-size: 80%}.leaf > .lab {text-anchor: middle; transform: rotate(-35deg) translateY(10px)}]]></style></defs><g class=\"tree-sequence\"><g class=\"axes\"><g class=\"x-axis\"><g class=\"title\" transform=\"translate(493.4 1500)\"><text class=\"lab\" text-anchor=\"middle\" transform=\"translate(0 -11)\">Genome position</text></g><line class=\"ax-line\" x1=\"56.8\" x2=\"930\" y1=\"1463.2\" y2=\"1463.2\" /><g class=\"ticks\"><g class=\"tick\" transform=\"translate(56.8 1463.2)\"><line x1=\"0\" x2=\"0\" y1=\"-5\" y2=\"5\" /><g transform=\"translate(0 6)\"><text class=\"lab\">0</text></g></g><g class=\"tick\" transform=\"translate(930 1463.2)\"><line x1=\"0\" x2=\"0\" y1=\"-5\" y2=\"5\" /><g transform=\"translate(0 6)\"><text class=\"lab\">29904</text></g></g></g></g><g class=\"y-axis\"><g class=\"title\" transform=\"translate(0 715.7)\"><text class=\"lab\" text-anchor=\"middle\" transform=\"translate(11) rotate(-90)\">Node time (days)</text></g><line class=\"ax-line\" x1=\"56.8\" x2=\"56.8\" y1=\"1421.4\" y2=\"10\" /><g class=\"ticks\"><g class=\"tick\" transform=\"translate(56.8 1421.4)\"><line x1=\"0\" x2=\"-5\" y1=\"0\" y2=\"0\" /><g transform=\"translate(-6 0)\"><text class=\"lab\" text-anchor=\"end\">0.00</text></g></g><g class=\"tick\" transform=\"translate(56.8 1377.82)\"><line x1=\"0\" x2=\"-5\" y1=\"0\" y2=\"0\" /><g transform=\"translate(-6 0)\"><text class=\"lab\" text-anchor=\"end\">2.00</text></g></g><g class=\"tick\" transform=\"translate(56.8 1334.24)\"><line x1=\"0\" x2=\"-5\" y1=\"0\" y2=\"0\" /><g transform=\"translate(-6 0)\"><text class=\"lab\" text-anchor=\"end\">3.00</text></g></g><g class=\"tick\" transform=\"translate(56.8 1290.66)\"><line x1=\"0\" x2=\"-5\" y1=\"0\" y2=\"0\" /><g transform=\"translate(-6 0)\"><text class=\"lab\" text-anchor=\"end\">4.00</text></g></g><g class=\"tick\" transform=\"translate(56.8 1247.08)\"><line x1=\"0\" x2=\"-5\" y1=\"0\" y2=\"0\" /><g transform=\"translate(-6 0)\"><text class=\"lab\" text-anchor=\"end\">5.00</text></g></g><g class=\"tick\" transform=\"translate(56.8 1203.49)\"><line x1=\"0\" x2=\"-5\" y1=\"0\" y2=\"0\" /><g transform=\"translate(-6 0)\"><text class=\"lab\" text-anchor=\"end\">5.00</text></g></g><g class=\"tick\" transform=\"translate(56.8 1159.91)\"><line x1=\"0\" x2=\"-5\" y1=\"0\" y2=\"0\" /><g transform=\"translate(-6 0)\"><text class=\"lab\" text-anchor=\"end\">6.00</text></g></g><g class=\"tick\" transform=\"translate(56.8 1116.33)\"><line x1=\"0\" x2=\"-5\" y1=\"0\" y2=\"0\" /><g transform=\"translate(-6 0)\"><text class=\"lab\" text-anchor=\"end\">7.00</text></g></g><g class=\"tick\" transform=\"translate(56.8 1072.75)\"><line x1=\"0\" x2=\"-5\" y1=\"0\" y2=\"0\" /><g transform=\"translate(-6 0)\"><text class=\"lab\" text-anchor=\"end\">8.00</text></g></g><g class=\"tick\" transform=\"translate(56.8 1029.17)\"><line x1=\"0\" x2=\"-5\" y1=\"0\" y2=\"0\" /><g transform=\"translate(-6 0)\"><text class=\"lab\" text-anchor=\"end\">9.00</text></g></g><g class=\"tick\" transform=\"translate(56.8 985.588)\"><line x1=\"0\" x2=\"-5\" y1=\"0\" y2=\"0\" /><g transform=\"translate(-6 0)\"><text class=\"lab\" text-anchor=\"end\">9.00</text></g></g><g class=\"tick\" transform=\"translate(56.8 942.006)\"><line x1=\"0\" x2=\"-5\" y1=\"0\" y2=\"0\" /><g transform=\"translate(-6 0)\"><text class=\"lab\" text-anchor=\"end\">10.00</text></g></g><g class=\"tick\" transform=\"translate(56.8 898.425)\"><line x1=\"0\" x2=\"-5\" y1=\"0\" y2=\"0\" /><g transform=\"translate(-6 0)\"><text class=\"lab\" text-anchor=\"end\">11.00</text></g></g><g class=\"tick\" transform=\"translate(56.8 854.844)\"><line x1=\"0\" x2=\"-5\" y1=\"0\" y2=\"0\" /><g transform=\"translate(-6 0)\"><text class=\"lab\" text-anchor=\"end\">12.00</text></g></g><g class=\"tick\" transform=\"translate(56.8 811.263)\"><line x1=\"0\" x2=\"-5\" y1=\"0\" y2=\"0\" /><g transform=\"translate(-6 0)\"><text class=\"lab\" text-anchor=\"end\">12.00</text></g></g><g class=\"tick\" transform=\"translate(56.8 767.681)\"><line x1=\"0\" x2=\"-5\" y1=\"0\" y2=\"0\" /><g transform=\"translate(-6 0)\"><text class=\"lab\" text-anchor=\"end\">12.00</text></g></g><g class=\"tick\" transform=\"translate(56.8 724.1)\"><line x1=\"0\" x2=\"-5\" y1=\"0\" y2=\"0\" /><g transform=\"translate(-6 0)\"><text class=\"lab\" text-anchor=\"end\">12.25</text></g></g><g class=\"tick\" transform=\"translate(56.8 680.519)\"><line x1=\"0\" x2=\"-5\" y1=\"0\" y2=\"0\" /><g transform=\"translate(-6 0)\"><text class=\"lab\" text-anchor=\"end\">12.69</text></g></g><g class=\"tick\" transform=\"translate(56.8 636.938)\"><line x1=\"0\" x2=\"-5\" y1=\"0\" y2=\"0\" /><g transform=\"translate(-6 0)\"><text class=\"lab\" text-anchor=\"end\">13.00</text></g></g><g class=\"tick\" transform=\"translate(56.8 593.356)\"><line x1=\"0\" x2=\"-5\" y1=\"0\" y2=\"0\" /><g transform=\"translate(-6 0)\"><text class=\"lab\" text-anchor=\"end\">14.00</text></g></g><g class=\"tick\" transform=\"translate(56.8 549.775)\"><line x1=\"0\" x2=\"-5\" y1=\"0\" y2=\"0\" /><g transform=\"translate(-6 0)\"><text class=\"lab\" text-anchor=\"end\">14.00</text></g></g><g class=\"tick\" transform=\"translate(56.8 506.194)\"><line x1=\"0\" x2=\"-5\" y1=\"0\" y2=\"0\" /><g transform=\"translate(-6 0)\"><text class=\"lab\" text-anchor=\"end\">15.00</text></g></g><g class=\"tick\" transform=\"translate(56.8 462.612)\"><line x1=\"0\" x2=\"-5\" y1=\"0\" y2=\"0\" /><g transform=\"translate(-6 0)\"><text class=\"lab\" text-anchor=\"end\">16.00</text></g></g><g class=\"tick\" transform=\"translate(56.8 419.031)\"><line x1=\"0\" x2=\"-5\" y1=\"0\" y2=\"0\" /><g transform=\"translate(-6 0)\"><text class=\"lab\" text-anchor=\"end\">19.00</text></g></g><g class=\"tick\" transform=\"translate(56.8 375.45)\"><line x1=\"0\" x2=\"-5\" y1=\"0\" y2=\"0\" /><g transform=\"translate(-6 0)\"><text class=\"lab\" text-anchor=\"end\">20.00</text></g></g><g class=\"tick\" transform=\"translate(56.8 331.869)\"><line x1=\"0\" x2=\"-5\" y1=\"0\" y2=\"0\" /><g transform=\"translate(-6 0)\"><text class=\"lab\" text-anchor=\"end\">20.00</text></g></g><g class=\"tick\" transform=\"translate(56.8 288.287)\"><line x1=\"0\" x2=\"-5\" y1=\"0\" y2=\"0\" /><g transform=\"translate(-6 0)\"><text class=\"lab\" text-anchor=\"end\">25.00</text></g></g><g class=\"tick\" transform=\"translate(56.8 244.706)\"><line x1=\"0\" x2=\"-5\" y1=\"0\" y2=\"0\" /><g transform=\"translate(-6 0)\"><text class=\"lab\" text-anchor=\"end\">28.00</text></g></g><g class=\"tick\" transform=\"translate(56.8 201.125)\"><line x1=\"0\" x2=\"-5\" y1=\"0\" y2=\"0\" /><g transform=\"translate(-6 0)\"><text class=\"lab\" text-anchor=\"end\">29.00</text></g></g><g class=\"tick\" transform=\"translate(56.8 157.544)\"><line x1=\"0\" x2=\"-5\" y1=\"0\" y2=\"0\" /><g transform=\"translate(-6 0)\"><text class=\"lab\" text-anchor=\"end\">31.50</text></g></g><g class=\"tick\" transform=\"translate(56.8 113.962)\"><line x1=\"0\" x2=\"-5\" y1=\"0\" y2=\"0\" /><g transform=\"translate(-6 0)\"><text class=\"lab\" text-anchor=\"end\">32.00</text></g></g><g class=\"tick\" transform=\"translate(56.8 70.3812)\"><line x1=\"0\" x2=\"-5\" y1=\"0\" y2=\"0\" /><g transform=\"translate(-6 0)\"><text class=\"lab\" text-anchor=\"end\">49.00</text></g></g><g class=\"tick\" transform=\"translate(56.8 26.8)\"><line x1=\"0\" x2=\"-5\" y1=\"0\" y2=\"0\" /><g transform=\"translate(-6 0)\"><text class=\"lab\" text-anchor=\"end\">50.00</text></g></g></g></g></g><g class=\"plotbox trees\"><g class=\"tree t0\" transform=\"translate(56.8 0)\"><g class=\"plotbox\"><g class=\"c1 node n0 root\" transform=\"translate(495.467 26.8)\"><g class=\"a0 c16 node n1 sample\" transform=\"translate(0.0 43.5812)\"><g class=\"a1 c5 m48 node n5 s25802\" transform=\"translate(-165.282 261.488)\"><g class=\"a5 leaf node n3 sample\" transform=\"translate(-47.5467 43.5812)\"><path class=\"edge\" d=\"M 0 0 V -43.5812 H 47.5467\" /><rect class=\"sym\" height=\"6\" width=\"6\" x=\"-3\" y=\"-3\" /><text class=\"lab\" transform=\"translate(0 11)\">3 B\\nSRR11397727</text></g><g class=\"a5 leaf node n4 sample\" transform=\"translate(-29.4337 43.5812)\"><path class=\"edge\" d=\"M 0 0 V -43.5812 H 29.4337\" /><rect class=\"sym\" height=\"6\" width=\"6\" x=\"-3\" y=\"-3\" /><text class=\"lab\" transform=\"translate(0 11)\">4 B\\nSRR11397730</text></g><g class=\"a5 leaf node n6 sample\" transform=\"translate(-11.3207 87.1625)\"><path class=\"edge\" d=\"M 0 0 V -87.1625 H 11.3207\" /><rect class=\"sym\" height=\"6\" width=\"6\" x=\"-3\" y=\"-3\" /><text class=\"lab\" transform=\"translate(0 11)\">6 B\\nSRR11397726</text></g><g class=\"a5 leaf node n7 sample\" transform=\"translate(6.79239 87.1625)\"><path class=\"edge\" d=\"M 0 0 V -87.1625 H -6.79239\" /><rect class=\"sym\" height=\"6\" width=\"6\" x=\"-3\" y=\"-3\" /><text class=\"lab\" transform=\"translate(0 11)\">7 B\\nSRR11397729</text></g><g class=\"a5 c2 m32 node n61 s14594\" transform=\"translate(47.5467 479.394)\"><g class=\"a61 c2 m12 m13 node n54 s2397 s2475 sample\" transform=\"translate(-13.5848 479.394)\"><g class=\"a54 leaf node n58 sample\" transform=\"translate(-9.05652 130.744)\"><path class=\"edge\" d=\"M 0 0 V -130.744 H 9.05652\" /><rect class=\"sym\" height=\"6\" width=\"6\" x=\"-3\" y=\"-3\" /><text class=\"lab\" transform=\"translate(0 11)\">58 B.40\\nERR4205570</text></g><g class=\"a54 leaf m52 node n60 s26649 sample\" transform=\"translate(9.05652 130.744)\"><path class=\"edge\" d=\"M 0 0 V -130.744 H -9.05652\" /><g class=\"mut m52 s26649\" transform=\"translate(0 -65.3719)\"><line x1=\"0\" x2=\"0\" y1=\"0\" y2=\"65.3719\" /><path class=\"sym\" d=\"M -3,-3 l 6,6 M -3,3 l 6,-6\" /><text class=\"lab rgt\" transform=\"translate(5 0)\">C26994T</text></g><rect class=\"sym\" height=\"6\" width=\"6\" x=\"-3\" y=\"-3\" /><text class=\"lab\" transform=\"translate(0 11)\">60 B.40\\nERR4206593</text></g><path class=\"edge\" d=\"M 0 0 V -479.394 H 13.5848\" /><g class=\"mut m12 s2397\" transform=\"translate(0 -319.596)\"><line x1=\"0\" x2=\"0\" y1=\"0\" y2=\"319.596\" /><path class=\"sym\" d=\"M -3,-3 l 6,6 M -3,3 l 6,-6\" /><text class=\"lab lft\" transform=\"translate(-5 0)\">A2480G</text></g><g class=\"mut m13 s2475\" transform=\"translate(0 -159.798)\"><line x1=\"0\" x2=\"0\" y1=\"0\" y2=\"159.798\" /><path class=\"sym\" d=\"M -3,-3 l 6,6 M -3,3 l 6,-6\" /><text class=\"lab lft\" transform=\"translate(-5 0)\">C2558T</text></g><rect class=\"sym\" height=\"6\" width=\"6\" x=\"-3\" y=\"-3\" /><text class=\"lab lft\" transform=\"translate(-3 -7.0)\">54 B.40\\nERR4206180</text></g><g class=\"a61 leaf m37 node n59 s17010 sample\" transform=\"translate(13.5848 610.138)\"><path class=\"edge\" d=\"M 0 0 V -610.138 H -13.5848\" /><g class=\"mut m37 s17010\" transform=\"translate(0 -305.069)\"><line x1=\"0\" x2=\"0\" y1=\"0\" y2=\"305.069\" /><path class=\"sym\" d=\"M -3,-3 l 6,6 M -3,3 l 6,-6\" /><text class=\"lab rgt\" transform=\"translate(5 0)\">T17247C</text></g><rect class=\"sym\" height=\"6\" width=\"6\" x=\"-3\" y=\"-3\" /><text class=\"lab\" transform=\"translate(0 11)\">59 B.33\\nERR4204459</text></g><path class=\"edge\" d=\"M 0 0 V -479.394 H -47.5467\" /><g class=\"mut m32 s14594\" transform=\"translate(0 -239.697)\"><line x1=\"0\" x2=\"0\" y1=\"0\" y2=\"239.697\" /><path class=\"sym\" d=\"M -3,-3 l 6,6 M -3,3 l 6,-6\" /><text class=\"lab rgt\" transform=\"translate(5 0)\">C14805T</text></g><circle class=\"sym\" cx=\"0\" cy=\"0\" r=\"3\" /><text class=\"lab rgt\" transform=\"translate(3 -7.0)\">61</text></g><path class=\"edge\" d=\"M 0 0 V -261.488 H 165.282\" /><g class=\"mut m48 s25802\" transform=\"translate(0 -130.744)\"><line x1=\"0\" x2=\"0\" y1=\"0\" y2=\"130.744\" /><path class=\"sym\" d=\"M -3,-3 l 6,6 M -3,3 l 6,-6\" /><text class=\"lab rgt\" transform=\"translate(5 0)\">G26144T</text></g><circle class=\"sym\" cx=\"0\" cy=\"0\" r=\"3\" /><text class=\"lab rgt\" transform=\"translate(3 -7.0)\">5</text></g><g class=\"a1 c13 m23 m56 node n9 s27786 s8632\" transform=\"translate(-348.676 174.325)\"><g class=\"a9 leaf m39 node n2 s17816 sample\" transform=\"translate(-117.735 43.5812)\"><path class=\"edge\" d=\"M 0 0 V -43.5812 H 117.735\" /><g class=\"mut m39 s17816\" transform=\"translate(0 -21.7906)\"><line x1=\"0\" x2=\"0\" y1=\"0\" y2=\"21.7906\" /><path class=\"sym\" d=\"M -3,-3 l 6,6 M -3,3 l 6,-6\" /><text class=\"lab lft\" transform=\"translate(-5 0)\">C18060T</text></g><rect class=\"sym\" height=\"6\" width=\"6\" x=\"-3\" y=\"-3\" /><text class=\"lab\" transform=\"translate(0 11)\">2 A\\nSRR11772659</text></g><g class=\"a9 c1 m60 m65 node n8 s28514 s29362 sample\" transform=\"translate(90.5652 174.325)\"><g class=\"a8 c2 m27 node n50 s9875\" transform=\"translate(0.0 784.463)\"><g class=\"a50 leaf node n48 sample\" transform=\"translate(-9.05652 43.5812)\"><path class=\"edge\" d=\"M 0 0 V -43.5812 H 9.05652\" /><rect class=\"sym\" height=\"6\" width=\"6\" x=\"-3\" y=\"-3\" /><text class=\"lab\" transform=\"translate(0 11)\">48 A\\nSRR11397718</text></g><g class=\"a50 leaf node n49 sample\" transform=\"translate(9.05652 43.5812)\"><path class=\"edge\" d=\"M 0 0 V -43.5812 H -9.05652\" /><rect class=\"sym\" height=\"6\" width=\"6\" x=\"-3\" y=\"-3\" /><text class=\"lab\" transform=\"translate(0 11)\">49 A\\nSRR11397722</text></g><path class=\"edge\" d=\"M 0 0 V -784.463 H 0.0\" /><g class=\"mut m27 s9875\" transform=\"translate(0 -392.231)\"><line x1=\"0\" x2=\"0\" y1=\"0\" y2=\"392.231\" /><path class=\"sym\" d=\"M -3,-3 l 6,6 M -3,3 l 6,-6\" /><text class=\"lab lft\" transform=\"translate(-5 0)\">C10038T</text></g><circle class=\"sym\" cx=\"0\" cy=\"0\" r=\"3\" /><text class=\"lab lft\" transform=\"translate(-3 -7.0)\">50</text></g><path class=\"edge\" d=\"M 0 0 V -174.325 H -90.5652\" /><g class=\"mut m60 s28514\" transform=\"translate(0 -116.217)\"><line x1=\"0\" x2=\"0\" y1=\"0\" y2=\"116.217\" /><path class=\"sym\" d=\"M -3,-3 l 6,6 M -3,3 l 6,-6\" /><text class=\"lab rgt\" transform=\"translate(5 0)\">G28878A</text></g><g class=\"mut m65 s29362\" transform=\"translate(0 -58.1083)\"><line x1=\"0\" x2=\"0\" y1=\"0\" y2=\"58.1083\" /><path class=\"sym\" d=\"M -3,-3 l 6,6 M -3,3 l 6,-6\" /><text class=\"lab rgt\" transform=\"translate(5 0)\">G29742A</text></g><rect class=\"sym\" height=\"6\" width=\"6\" x=\"-3\" y=\"-3\" /><text class=\"lab rgt\" transform=\"translate(3 -7.0)\">8 A\\nSRR11597198</text></g><g class=\"a9 leaf node n12 sample\" transform=\"translate(-99.6217 261.488)\"><path class=\"edge\" d=\"M 0 0 V -261.488 H 99.6217\" /><rect class=\"sym\" height=\"6\" width=\"6\" x=\"-3\" y=\"-3\" /><text class=\"lab\" transform=\"translate(0 11)\">12 A\\nSRR11597132</text></g><g class=\"a9 leaf m16 m42 node n13 s21570 s3089 sample\" transform=\"translate(-81.5087 261.488)\"><path class=\"edge\" d=\"M 0 0 V -261.488 H 81.5087\" /><g class=\"mut m16 s3089\" transform=\"translate(0 -174.325)\"><line x1=\"0\" x2=\"0\" y1=\"0\" y2=\"174.325\" /><path class=\"sym\" d=\"M -3,-3 l 6,6 M -3,3 l 6,-6\" /><text class=\"lab rgt\" transform=\"translate(5 0)\">C3176T</text></g><g class=\"mut m42 s21570\" transform=\"translate(0 -87.1625)\"><line x1=\"0\" x2=\"0\" y1=\"0\" y2=\"87.1625\" /><path class=\"sym\" d=\"M -3,-3 l 6,6 M -3,3 l 6,-6\" /><text class=\"lab rgt\" transform=\"translate(5 0)\">C21855T</text></g><rect class=\"sym\" height=\"6\" width=\"6\" x=\"-3\" y=\"-3\" /><text class=\"lab\" transform=\"translate(0 11)\">13 A\\nSRR11597121</text></g><g class=\"a9 leaf node n15 sample\" transform=\"translate(-63.3957 348.65)\"><path class=\"edge\" d=\"M 0 0 V -348.65 H 63.3957\" /><rect class=\"sym\" height=\"6\" width=\"6\" x=\"-3\" y=\"-3\" /><text class=\"lab\" transform=\"translate(0 11)\">15 A\\nSRR11597177</text></g><g class=\"a9 leaf m11 m67 node n21 s2393 s29363 sample\" transform=\"translate(-45.2826 392.231)\"><path class=\"edge\" d=\"M 0 0 V -392.231 H 45.2826\" /><g class=\"mut m11 s2393\" transform=\"translate(0 -261.487)\"><line x1=\"0\" x2=\"0\" y1=\"0\" y2=\"261.487\" /><path class=\"sym\" d=\"M -3,-3 l 6,6 M -3,3 l 6,-6\" /><text class=\"lab rgt\" transform=\"translate(5 0)\">A2476G</text></g><g class=\"mut m67 s29363\" transform=\"translate(0 -130.744)\"><line x1=\"0\" x2=\"0\" y1=\"0\" y2=\"130.744\" /><path class=\"sym\" d=\"M -3,-3 l 6,6 M -3,3 l 6,-6\" /><text class=\"lab rgt\" transform=\"translate(5 0)\">C29743T</text></g><rect class=\"sym\" height=\"6\" width=\"6\" x=\"-3\" y=\"-3\" /><text class=\"lab\" transform=\"translate(0 11)\">21 A\\nSRR11494548</text></g><g class=\"a9 leaf m45 m51 m55 node n22 s23710 s26384 s27719 sample\" transform=\"translate(-27.1696 610.138)\"><path class=\"edge\" d=\"M 0 0 V -610.138 H 27.1696\" /><g class=\"mut m45 s23710\" transform=\"translate(0 -457.603)\"><line x1=\"0\" x2=\"0\" y1=\"0\" y2=\"457.603\" /><path class=\"sym\" d=\"M -3,-3 l 6,6 M -3,3 l 6,-6\" /><text class=\"lab rgt\" transform=\"translate(5 0)\">C24034T</text></g><g class=\"mut m51 s26384\" transform=\"translate(0 -305.069)\"><line x1=\"0\" x2=\"0\" y1=\"0\" y2=\"305.069\" /><path class=\"sym\" d=\"M -3,-3 l 6,6 M -3,3 l 6,-6\" /><text class=\"lab rgt\" transform=\"translate(5 0)\">T26729C</text></g><g class=\"mut m55 s27719\" transform=\"translate(0 -152.534)\"><line x1=\"0\" x2=\"0\" y1=\"0\" y2=\"152.534\" /><path class=\"sym\" d=\"M -3,-3 l 6,6 M -3,3 l 6,-6\" /><text class=\"lab rgt\" transform=\"translate(5 0)\">G28077C</text></g><rect class=\"sym\" height=\"6\" width=\"6\" x=\"-3\" y=\"-3\" /><text class=\"lab\" transform=\"translate(0 11)\">22 A\\nSRR11597140</text></g><g class=\"a9 leaf m25 node n23 s9314 sample\" transform=\"translate(-9.05652 610.138)\"><path class=\"edge\" d=\"M 0 0 V -610.138 H 9.05652\" /><g class=\"mut m25 s9314\" transform=\"translate(0 -305.069)\"><line x1=\"0\" x2=\"0\" y1=\"0\" y2=\"305.069\" /><path class=\"sym\" d=\"M -3,-3 l 6,6 M -3,3 l 6,-6\" /><text class=\"lab rgt\" transform=\"translate(5 0)\">T9477A</text></g><rect class=\"sym\" height=\"6\" width=\"6\" x=\"-3\" y=\"-3\" /><text class=\"lab\" transform=\"translate(0 11)\">23 A\\nSRR11597151</text></g><g class=\"a9 leaf m1 m22 m28 m5 node n30 s11253 s147 s6240 s876 sample\" transform=\"translate(9.05652 653.719)\"><path class=\"edge\" d=\"M 0 0 V -653.719 H -9.05652\" /><g class=\"mut m1 s147\" transform=\"translate(0 -522.975)\"><line x1=\"0\" x2=\"0\" y1=\"0\" y2=\"522.975\" /><path class=\"sym\" d=\"M -3,-3 l 6,6 M -3,3 l 6,-6\" /><text class=\"lab rgt\" transform=\"translate(5 0)\">C207T</text></g><g class=\"mut m5 s876\" transform=\"translate(0 -392.231)\"><line x1=\"0\" x2=\"0\" y1=\"0\" y2=\"392.231\" /><path class=\"sym\" d=\"M -3,-3 l 6,6 M -3,3 l 6,-6\" /><text class=\"lab rgt\" transform=\"translate(5 0)\">T946C</text></g><g class=\"mut m22 s6240\" transform=\"translate(0 -261.488)\"><line x1=\"0\" x2=\"0\" y1=\"0\" y2=\"261.488\" /><path class=\"sym\" d=\"M -3,-3 l 6,6 M -3,3 l 6,-6\" /><text class=\"lab rgt\" transform=\"translate(5 0)\">C6363T</text></g><g class=\"mut m28 s11253\" transform=\"translate(0 -130.744)\"><line x1=\"0\" x2=\"0\" y1=\"0\" y2=\"130.744\" /><path class=\"sym\" d=\"M -3,-3 l 6,6 M -3,3 l 6,-6\" /><text class=\"lab rgt\" transform=\"translate(5 0)\">A11430G</text></g><rect class=\"sym\" height=\"6\" width=\"6\" x=\"-3\" y=\"-3\" /><text class=\"lab\" transform=\"translate(0 11)\">30 A\\nSRR11597195</text></g><g class=\"a9 leaf m19 m26 m40 node n33 s20257 s4557 s9727 sample\" transform=\"translate(27.1696 697.3)\"><path class=\"edge\" d=\"M 0 0 V -697.3 H -27.1696\" /><g class=\"mut m19 s4557\" transform=\"translate(0 -522.975)\"><line x1=\"0\" x2=\"0\" y1=\"0\" y2=\"522.975\" /><path class=\"sym\" d=\"M -3,-3 l 6,6 M -3,3 l 6,-6\" /><text class=\"lab rgt\" transform=\"translate(5 0)\">C4655T</text></g><g class=\"mut m26 s9727\" transform=\"translate(0 -348.65)\"><line x1=\"0\" x2=\"0\" y1=\"0\" y2=\"348.65\" /><path class=\"sym\" d=\"M -3,-3 l 6,6 M -3,3 l 6,-6\" /><text class=\"lab rgt\" transform=\"translate(5 0)\">G9890T</text></g><g class=\"mut m40 s20257\" transform=\"translate(0 -174.325)\"><line x1=\"0\" x2=\"0\" y1=\"0\" y2=\"174.325\" /><path class=\"sym\" d=\"M -3,-3 l 6,6 M -3,3 l 6,-6\" /><text class=\"lab rgt\" transform=\"translate(5 0)\">G20527T</text></g><rect class=\"sym\" height=\"6\" width=\"6\" x=\"-3\" y=\"-3\" /><text class=\"lab\" transform=\"translate(0 11)\">33 A\\nSRR11597191</text></g><g class=\"a9 leaf node n40 sample\" transform=\"translate(45.2826 828.044)\"><path class=\"edge\" d=\"M 0 0 V -828.044 H -45.2826\" /><rect class=\"sym\" height=\"6\" width=\"6\" x=\"-3\" y=\"-3\" /><text class=\"lab\" transform=\"translate(0 11)\">40 A\\nSRR11597156</text></g><g class=\"a9 leaf m61 node n46 s28722 sample\" transform=\"translate(63.3957 915.206)\"><path class=\"edge\" d=\"M 0 0 V -915.206 H -63.3957\" /><g class=\"mut m61 s28722\" transform=\"translate(0 -457.603)\"><line x1=\"0\" x2=\"0\" y1=\"0\" y2=\"457.603\" /><path class=\"sym\" d=\"M -3,-3 l 6,6 M -3,3 l 6,-6\" /><text class=\"lab rgt\" transform=\"translate(5 0)\">C29095T</text></g><rect class=\"sym\" height=\"6\" width=\"6\" x=\"-3\" y=\"-3\" /><text class=\"lab\" transform=\"translate(0 11)\">46 A\\nSRR11597146</text></g><g class=\"a9 leaf m3 node n57 s228 sample\" transform=\"translate(117.735 1133.11)\"><path class=\"edge\" d=\"M 0 0 V -1133.11 H -117.735\" /><g class=\"mut m3 s228\" transform=\"translate(0 -566.556)\"><line x1=\"0\" x2=\"0\" y1=\"0\" y2=\"566.556\" /><path class=\"sym\" d=\"M -3,-3 l 6,6 M -3,3 l 6,-6\" /><text class=\"lab rgt\" transform=\"translate(5 0)\">C289T</text></g><rect class=\"sym\" height=\"6\" width=\"6\" x=\"-3\" y=\"-3\" /><text class=\"lab\" transform=\"translate(0 11)\">57 A\\nSRR11597218</text></g><path class=\"edge\" d=\"M 0 0 V -174.325 H 348.676\" /><g class=\"mut m23 s8632\" transform=\"translate(0 -116.217)\"><line x1=\"0\" x2=\"0\" y1=\"0\" y2=\"116.217\" /><path class=\"sym\" d=\"M -3,-3 l 6,6 M -3,3 l 6,-6\" /><text class=\"lab lft\" transform=\"translate(-5 0)\">C8782T</text></g><g class=\"mut m56 s27786\" transform=\"translate(0 -58.1083)\"><line x1=\"0\" x2=\"0\" y1=\"0\" y2=\"58.1083\" /><path class=\"sym\" d=\"M -3,-3 l 6,6 M -3,3 l 6,-6\" /><text class=\"lab lft\" transform=\"translate(-5 0)\">T28144C</text></g><circle class=\"sym\" cx=\"0\" cy=\"0\" r=\"3\" /><text class=\"lab lft\" transform=\"translate(-3 -7.0)\">9</text></g><g class=\"a1 leaf m0 m33 m41 m50 node n10 s143 s14676 s21422 s26191 sample\" transform=\"translate(-86.037 392.231)\"><path class=\"edge\" d=\"M 0 0 V -392.231 H 86.037\" /><g class=\"mut m0 s143\" transform=\"translate(0 -313.785)\"><line x1=\"0\" x2=\"0\" y1=\"0\" y2=\"313.785\" /><path class=\"sym\" d=\"M -3,-3 l 6,6 M -3,3 l 6,-6\" /><text class=\"lab rgt\" transform=\"translate(5 0)\">C203T</text></g><g class=\"mut m33 s14676\" transform=\"translate(0 -235.339)\"><line x1=\"0\" x2=\"0\" y1=\"0\" y2=\"235.339\" /><path class=\"sym\" d=\"M -3,-3 l 6,6 M -3,3 l 6,-6\" /><text class=\"lab rgt\" transform=\"translate(5 0)\">C14889T</text></g><g class=\"mut m41 s21422\" transform=\"translate(0 -156.892)\"><line x1=\"0\" x2=\"0\" y1=\"0\" y2=\"156.892\" /><path class=\"sym\" d=\"M -3,-3 l 6,6 M -3,3 l 6,-6\" /><text class=\"lab rgt\" transform=\"translate(5 0)\">C21707T</text></g><g class=\"mut m50 s26191\" transform=\"translate(0 -78.4462)\"><line x1=\"0\" x2=\"0\" y1=\"0\" y2=\"78.4462\" /><path class=\"sym\" d=\"M -3,-3 l 6,6 M -3,3 l 6,-6\" /><text class=\"lab rgt\" transform=\"translate(5 0)\">C26533T</text></g><rect class=\"sym\" height=\"6\" width=\"6\" x=\"-3\" y=\"-3\" /><text class=\"lab\" transform=\"translate(0 11)\">10 B\\nSRR11597143</text></g><g class=\"a1 leaf m46 node n11 s24046 sample\" transform=\"translate(-67.9239 392.231)\"><path class=\"edge\" d=\"M 0 0 V -392.231 H 67.9239\" /><g class=\"mut m46 s24046\" transform=\"translate(0 -196.116)\"><line x1=\"0\" x2=\"0\" y1=\"0\" y2=\"196.116\" /><path class=\"sym\" d=\"M -3,-3 l 6,6 M -3,3 l 6,-6\" /><text class=\"lab rgt\" transform=\"translate(5 0)\">C24370T</text></g><rect class=\"sym\" height=\"6\" width=\"6\" x=\"-3\" y=\"-3\" /><text class=\"lab\" transform=\"translate(0 11)\">11 B\\nSRR11597154</text></g><g class=\"a1 c2 m47 node n26 s24874\" transform=\"translate(104.15 697.3)\"><g class=\"a26 leaf node n24 sample\" transform=\"translate(-9.05652 87.1625)\"><path class=\"edge\" d=\"M 0 0 V -87.1625 H 9.05652\" /><rect class=\"sym\" height=\"6\" width=\"6\" x=\"-3\" y=\"-3\" /><text class=\"lab\" transform=\"translate(0 11)\">24 B\\nSRR11597144</text></g><g class=\"a26 leaf m24 node n25 s9280 sample\" transform=\"translate(9.05652 87.1625)\"><path class=\"edge\" d=\"M 0 0 V -87.1625 H -9.05652\" /><g class=\"mut m24 s9280\" transform=\"translate(0 -43.5812)\"><line x1=\"0\" x2=\"0\" y1=\"0\" y2=\"43.5812\" /><path class=\"sym\" d=\"M -3,-3 l 6,6 M -3,3 l 6,-6\" /><text class=\"lab rgt\" transform=\"translate(5 0)\">C9442T</text></g><rect class=\"sym\" height=\"6\" width=\"6\" x=\"-3\" y=\"-3\" /><text class=\"lab\" transform=\"translate(0 11)\">25 B\\nSRR11597153</text></g><path class=\"edge\" d=\"M 0 0 V -697.3 H -104.15\" /><g class=\"mut m47 s24874\" transform=\"translate(0 -348.65)\"><line x1=\"0\" x2=\"0\" y1=\"0\" y2=\"348.65\" /><path class=\"sym\" d=\"M -3,-3 l 6,6 M -3,3 l 6,-6\" /><text class=\"lab rgt\" transform=\"translate(5 0)\">T25209C</text></g><circle class=\"sym\" cx=\"0\" cy=\"0\" r=\"3\" /><text class=\"lab rgt\" transform=\"translate(3 -7.0)\">26</text></g><g class=\"a1 leaf m59 m8 node n28 s1475 s28481 sample\" transform=\"translate(131.32 828.044)\"><path class=\"edge\" d=\"M 0 0 V -828.044 H -131.32\" /><g class=\"mut m8 s1475\" transform=\"translate(0 -552.029)\"><line x1=\"0\" x2=\"0\" y1=\"0\" y2=\"552.029\" /><path class=\"sym\" d=\"M -3,-3 l 6,6 M -3,3 l 6,-6\" /><text class=\"lab rgt\" transform=\"translate(5 0)\">A1547-</text></g><g class=\"mut m59 s28481\" transform=\"translate(0 -276.015)\"><line x1=\"0\" x2=\"0\" y1=\"0\" y2=\"276.015\" /><path class=\"sym\" d=\"M -3,-3 l 6,6 M -3,3 l 6,-6\" /><text class=\"lab rgt\" transform=\"translate(5 0)\">G28845T</text></g><rect class=\"sym\" height=\"6\" width=\"6\" x=\"-3\" y=\"-3\" /><text class=\"lab\" transform=\"translate(0 11)\">28 B\\nSRR11597164</text></g><g class=\"a1 leaf m17 node n29 s3676 sample\" transform=\"translate(149.433 828.044)\"><path class=\"edge\" d=\"M 0 0 V -828.044 H -149.433\" /><g class=\"mut m17 s3676\" transform=\"translate(0 -414.022)\"><line x1=\"0\" x2=\"0\" y1=\"0\" y2=\"414.022\" /><path class=\"sym\" d=\"M -3,-3 l 6,6 M -3,3 l 6,-6\" /><text class=\"lab rgt\" transform=\"translate(5 0)\">C3768T</text></g><rect class=\"sym\" height=\"6\" width=\"6\" x=\"-3\" y=\"-3\" /><text class=\"lab\" transform=\"translate(0 11)\">29 B\\nSRR11597190</text></g><g class=\"a1 c2 m38 node n31 s17136\" transform=\"translate(-40.7543 43.5812)\"><g class=\"a31 leaf m30 node n14 s12710 sample\" transform=\"translate(-9.05652 392.231)\"><path class=\"edge\" d=\"M 0 0 V -392.231 H 9.05652\" /><g class=\"mut m30 s12710\" transform=\"translate(0 -196.116)\"><line x1=\"0\" x2=\"0\" y1=\"0\" y2=\"196.116\" /><path class=\"sym\" d=\"M -3,-3 l 6,6 M -3,3 l 6,-6\" /><text class=\"lab lft\" transform=\"translate(-5 0)\">C12896T</text></g><rect class=\"sym\" height=\"6\" width=\"6\" x=\"-3\" y=\"-3\" /><text class=\"lab\" transform=\"translate(0 11)\">14 B\\nSRR11597220</text></g><g class=\"a31 leaf m21 m58 node n27 s28466 s5134 sample\" transform=\"translate(9.05652 784.463)\"><path class=\"edge\" d=\"M 0 0 V -784.463 H -9.05652\" /><g class=\"mut m21 s5134\" transform=\"translate(0 -522.975)\"><line x1=\"0\" x2=\"0\" y1=\"0\" y2=\"522.975\" /><path class=\"sym\" d=\"M -3,-3 l 6,6 M -3,3 l 6,-6\" /><text class=\"lab rgt\" transform=\"translate(5 0)\">C5239T</text></g><g class=\"mut m58 s28466\" transform=\"translate(0 -261.488)\"><line x1=\"0\" x2=\"0\" y1=\"0\" y2=\"261.488\" /><path class=\"sym\" d=\"M -3,-3 l 6,6 M -3,3 l 6,-6\" /><text class=\"lab rgt\" transform=\"translate(5 0)\">C28830A</text></g><rect class=\"sym\" height=\"6\" width=\"6\" x=\"-3\" y=\"-3\" /><text class=\"lab\" transform=\"translate(0 11)\">27 B\\nSRR11597114</text></g><path class=\"edge\" d=\"M 0 0 V -43.5812 H 40.7543\" /><g class=\"mut m38 s17136\" transform=\"translate(0 -21.7906)\"><line x1=\"0\" x2=\"0\" y1=\"0\" y2=\"21.7906\" /><path class=\"sym\" d=\"M -3,-3 l 6,6 M -3,3 l 6,-6\" /><text class=\"lab rgt\" transform=\"translate(5 0)\">C17373T</text></g><circle class=\"sym\" cx=\"0\" cy=\"0\" r=\"3\" /><text class=\"lab rgt\" transform=\"translate(3 -7.0)\">31</text></g><g class=\"a1 c2 m15 node n34 s2953\" transform=\"translate(40.7543 87.1625)\"><g class=\"a34 c4 m36 m53 m54 node n20 s16841 s26867 s27038\" transform=\"translate(-27.1696 392.231)\"><g class=\"a20 leaf node n16 sample\" transform=\"translate(-27.1696 43.5813)\"><path class=\"edge\" d=\"M 0 0 V -43.5813 H 27.1696\" /><rect class=\"sym\" height=\"6\" width=\"6\" x=\"-3\" y=\"-3\" /><text class=\"lab\" transform=\"translate(0 11)\">16 B\\nSRR12162232</text></g><g class=\"a20 leaf node n17 sample\" transform=\"translate(-9.05652 43.5813)\"><path class=\"edge\" d=\"M 0 0 V -43.5813 H 9.05652\" /><rect class=\"sym\" height=\"6\" width=\"6\" x=\"-3\" y=\"-3\" /><text class=\"lab\" transform=\"translate(0 11)\">17 B.1\\nSRR12162233</text></g><g class=\"a20 leaf node n18 sample\" transform=\"translate(9.05652 43.5813)\"><path class=\"edge\" d=\"M 0 0 V -43.5813 H -9.05652\" /><rect class=\"sym\" height=\"6\" width=\"6\" x=\"-3\" y=\"-3\" /><text class=\"lab\" transform=\"translate(0 11)\">18 B.1\\nSRR12162234</text></g><g class=\"a20 leaf node n19 sample\" transform=\"translate(27.1696 43.5813)\"><path class=\"edge\" d=\"M 0 0 V -43.5813 H -27.1696\" /><rect class=\"sym\" height=\"6\" width=\"6\" x=\"-3\" y=\"-3\" /><text class=\"lab\" transform=\"translate(0 11)\">19 B\\nSRR12162235</text></g><path class=\"edge\" d=\"M 0 0 V -392.231 H 27.1696\" /><g class=\"mut m36 s16841\" transform=\"translate(0 -294.173)\"><line x1=\"0\" x2=\"0\" y1=\"0\" y2=\"294.173\" /><path class=\"sym\" d=\"M -3,-3 l 6,6 M -3,3 l 6,-6\" /><text class=\"lab lft\" transform=\"translate(-5 0)\">C17074T</text></g><g class=\"mut m53 s26867\" transform=\"translate(0 -196.116)\"><line x1=\"0\" x2=\"0\" y1=\"0\" y2=\"196.116\" /><path class=\"sym\" d=\"M -3,-3 l 6,6 M -3,3 l 6,-6\" /><text class=\"lab lft\" transform=\"translate(-5 0)\">C27213T</text></g><g class=\"mut m54 s27038\" transform=\"translate(0 -98.0578)\"><line x1=\"0\" x2=\"0\" y1=\"0\" y2=\"98.0578\" /><path class=\"sym\" d=\"M -3,-3 l 6,6 M -3,3 l 6,-6\" /><text class=\"lab lft\" transform=\"translate(-5 0)\">T27384C</text></g><circle class=\"sym\" cx=\"0\" cy=\"0\" r=\"3\" /><text class=\"lab lft\" transform=\"translate(-3 -7.0)\">20</text></g><g class=\"a34 c2 m2 m44 node n44 s181 s23087\" transform=\"translate(27.1696 522.975)\"><g class=\"a44 leaf m31 node n32 s14201 sample\" transform=\"translate(-9.05652 261.487)\"><path class=\"edge\" d=\"M 0 0 V -261.487 H 9.05652\" /><g class=\"mut m31 s14201\" transform=\"translate(0 -130.744)\"><line x1=\"0\" x2=\"0\" y1=\"0\" y2=\"130.744\" /><path class=\"sym\" d=\"M -3,-3 l 6,6 M -3,3 l 6,-6\" /><text class=\"lab lft\" transform=\"translate(-5 0)\">C14408T</text></g><rect class=\"sym\" height=\"6\" width=\"6\" x=\"-3\" y=\"-3\" /><text class=\"lab\" transform=\"translate(0 11)\">32 B.1\\nERR4239266</text></g><g class=\"a44 leaf node n43 sample\" transform=\"translate(9.05652 435.813)\"><path class=\"edge\" d=\"M 0 0 V -435.813 H -9.05652\" /><rect class=\"sym\" height=\"6\" width=\"6\" x=\"-3\" y=\"-3\" /><text class=\"lab\" transform=\"translate(0 11)\">43 B.1\\nSRR11597196</text></g><path class=\"edge\" d=\"M 0 0 V -522.975 H -27.1696\" /><g class=\"mut m2 s181\" transform=\"translate(0 -348.65)\"><line x1=\"0\" x2=\"0\" y1=\"0\" y2=\"348.65\" /><path class=\"sym\" d=\"M -3,-3 l 6,6 M -3,3 l 6,-6\" /><text class=\"lab rgt\" transform=\"translate(5 0)\">C241T</text></g><g class=\"mut m44 s23087\" transform=\"translate(0 -174.325)\"><line x1=\"0\" x2=\"0\" y1=\"0\" y2=\"174.325\" /><path class=\"sym\" d=\"M -3,-3 l 6,6 M -3,3 l 6,-6\" /><text class=\"lab rgt\" transform=\"translate(5 0)\">A23403G</text></g><circle class=\"sym\" cx=\"0\" cy=\"0\" r=\"3\" /><text class=\"lab rgt\" transform=\"translate(3 -7.0)\">44</text></g><path class=\"edge\" d=\"M 0 0 V -87.1625 H -40.7543\" /><g class=\"mut m15 s2953\" transform=\"translate(0 -43.5813)\"><line x1=\"0\" x2=\"0\" y1=\"0\" y2=\"43.5813\" /><path class=\"sym\" d=\"M -3,-3 l 6,6 M -3,3 l 6,-6\" /><text class=\"lab rgt\" transform=\"translate(5 0)\">C3037T</text></g><circle class=\"sym\" cx=\"0\" cy=\"0\" r=\"3\" /><text class=\"lab rgt\" transform=\"translate(3 -7.0)\">34</text></g><g class=\"a1 leaf m14 m18 m4 node n36 s2943 s3694 s801 sample\" transform=\"translate(203.772 958.788)\"><path class=\"edge\" d=\"M 0 0 V -958.788 H -203.772\" /><g class=\"mut m4 s801\" transform=\"translate(0 -719.091)\"><line x1=\"0\" x2=\"0\" y1=\"0\" y2=\"719.091\" /><path class=\"sym\" d=\"M -3,-3 l 6,6 M -3,3 l 6,-6\" /><text class=\"lab rgt\" transform=\"translate(5 0)\">A871G</text></g><g class=\"mut m14 s2943\" transform=\"translate(0 -479.394)\"><line x1=\"0\" x2=\"0\" y1=\"0\" y2=\"479.394\" /><path class=\"sym\" d=\"M -3,-3 l 6,6 M -3,3 l 6,-6\" /><text class=\"lab rgt\" transform=\"translate(5 0)\">A3027G</text></g><g class=\"mut m18 s3694\" transform=\"translate(0 -239.697)\"><line x1=\"0\" x2=\"0\" y1=\"0\" y2=\"239.697\" /><path class=\"sym\" d=\"M -3,-3 l 6,6 M -3,3 l 6,-6\" /><text class=\"lab rgt\" transform=\"translate(5 0)\">C3787T</text></g><rect class=\"sym\" height=\"6\" width=\"6\" x=\"-3\" y=\"-3\" /><text class=\"lab\" transform=\"translate(0 11)\">36 B\\nSRR11597188</text></g><g class=\"a1 c3 m10 node n39 s2211\" transform=\"translate(239.998 915.206)\"><g class=\"a39 leaf node n37 sample\" transform=\"translate(-18.113 43.5812)\"><path class=\"edge\" d=\"M 0 0 V -43.5812 H 18.113\" /><rect class=\"sym\" height=\"6\" width=\"6\" x=\"-3\" y=\"-3\" /><text class=\"lab\" transform=\"translate(0 11)\">37 B\\nSRR11597136</text></g><g class=\"a39 leaf node n38 sample\" transform=\"translate(0.0 43.5812)\"><path class=\"edge\" d=\"M 0 0 V -43.5812 H 0.0\" /><rect class=\"sym\" height=\"6\" width=\"6\" x=\"-3\" y=\"-3\" /><text class=\"lab\" transform=\"translate(0 11)\">38 B\\nSRR11597175</text></g><g class=\"a39 leaf node n56 sample\" transform=\"translate(18.113 392.231)\"><path class=\"edge\" d=\"M 0 0 V -392.231 H -18.113\" /><rect class=\"sym\" height=\"6\" width=\"6\" x=\"-3\" y=\"-3\" /><text class=\"lab\" transform=\"translate(0 11)\">56 B\\nSRR11597207</text></g><path class=\"edge\" d=\"M 0 0 V -915.206 H -239.998\" /><g class=\"mut m10 s2211\" transform=\"translate(0 -457.603)\"><line x1=\"0\" x2=\"0\" y1=\"0\" y2=\"457.603\" /><path class=\"sym\" d=\"M -3,-3 l 6,6 M -3,3 l 6,-6\" /><text class=\"lab rgt\" transform=\"translate(5 0)\">G2293T</text></g><circle class=\"sym\" cx=\"0\" cy=\"0\" r=\"3\" /><text class=\"lab rgt\" transform=\"translate(3 -7.0)\">39</text></g><g class=\"a1 c2 m6 node n45 s1119\" transform=\"translate(176.602 130.744)\"><g class=\"a45 leaf m49 node n35 s25991 sample\" transform=\"translate(-9.05652 828.044)\"><path class=\"edge\" d=\"M 0 0 V -828.044 H 9.05652\" /><g class=\"mut m49 s25991\" transform=\"translate(0 -414.022)\"><line x1=\"0\" x2=\"0\" y1=\"0\" y2=\"414.022\" /><path class=\"sym\" d=\"M -3,-3 l 6,6 M -3,3 l 6,-6\" /><text class=\"lab lft\" transform=\"translate(-5 0)\">C26333T</text></g><rect class=\"sym\" height=\"6\" width=\"6\" x=\"-3\" y=\"-3\" /><text class=\"lab\" transform=\"translate(0 11)\">35 B\\nSRR11597174</text></g><g class=\"a45 leaf node n42 sample\" transform=\"translate(9.05652 915.206)\"><path class=\"edge\" d=\"M 0 0 V -915.206 H -9.05652\" /><rect class=\"sym\" height=\"6\" width=\"6\" x=\"-3\" y=\"-3\" /><text class=\"lab\" transform=\"translate(0 11)\">42 B\\nSRR11597178</text></g><path class=\"edge\" d=\"M 0 0 V -130.744 H -176.602\" /><g class=\"mut m6 s1119\" transform=\"translate(0 -65.3719)\"><line x1=\"0\" x2=\"0\" y1=\"0\" y2=\"65.3719\" /><path class=\"sym\" d=\"M -3,-3 l 6,6 M -3,3 l 6,-6\" /><text class=\"lab rgt\" transform=\"translate(5 0)\">C1190T</text></g><circle class=\"sym\" cx=\"0\" cy=\"0\" r=\"3\" /><text class=\"lab rgt\" transform=\"translate(3 -7.0)\">45</text></g><g class=\"a1 leaf m57 m64 m66 m7 m9 node n47 s1326 s1732 s28325 s29291 s29362 sample\" transform=\"translate(312.45 1089.53)\"><path class=\"edge\" d=\"M 0 0 V -1089.53 H -312.45\" /><g class=\"mut m7 s1326\" transform=\"translate(0 -907.943)\"><line x1=\"0\" x2=\"0\" y1=\"0\" y2=\"907.943\" /><path class=\"sym\" d=\"M -3,-3 l 6,6 M -3,3 l 6,-6\" /><text class=\"lab rgt\" transform=\"translate(5 0)\">G1397A</text></g><g class=\"mut m9 s1732\" transform=\"translate(0 -726.354)\"><line x1=\"0\" x2=\"0\" y1=\"0\" y2=\"726.354\" /><path class=\"sym\" d=\"M -3,-3 l 6,6 M -3,3 l 6,-6\" /><text class=\"lab rgt\" transform=\"translate(5 0)\">G1805A</text></g><g class=\"mut m57 s28325\" transform=\"translate(0 -544.766)\"><line x1=\"0\" x2=\"0\" y1=\"0\" y2=\"544.766\" /><path class=\"sym\" d=\"M -3,-3 l 6,6 M -3,3 l 6,-6\" /><text class=\"lab rgt\" transform=\"translate(5 0)\">T28688C</text></g><g class=\"mut m64 s29291\" transform=\"translate(0 -363.177)\"><line x1=\"0\" x2=\"0\" y1=\"0\" y2=\"363.177\" /><path class=\"sym\" d=\"M -3,-3 l 6,6 M -3,3 l 6,-6\" /><text class=\"lab rgt\" transform=\"translate(5 0)\">C29670T</text></g><g class=\"mut m66 s29362\" transform=\"translate(0 -181.589)\"><line x1=\"0\" x2=\"0\" y1=\"0\" y2=\"181.589\" /><path class=\"sym\" d=\"M -3,-3 l 6,6 M -3,3 l 6,-6\" /><text class=\"lab rgt\" transform=\"translate(5 0)\">G29742T</text></g><rect class=\"sym\" height=\"6\" width=\"6\" x=\"-3\" y=\"-3\" /><text class=\"lab\" transform=\"translate(0 11)\">47 B.4\\nSRR11597150</text></g><g class=\"a1 c2 m34 m62 node n52 s15107 s28930\" transform=\"translate(285.28 653.719)\"><g class=\"a52 leaf m20 node n41 s4923 sample\" transform=\"translate(-9.05652 392.231)\"><path class=\"edge\" d=\"M 0 0 V -392.231 H 9.05652\" /><g class=\"mut m20 s4923\" transform=\"translate(0 -196.116)\"><line x1=\"0\" x2=\"0\" y1=\"0\" y2=\"196.116\" /><path class=\"sym\" d=\"M -3,-3 l 6,6 M -3,3 l 6,-6\" /><text class=\"lab lft\" transform=\"translate(-5 0)\">C5025T</text></g><rect class=\"sym\" height=\"6\" width=\"6\" x=\"-3\" y=\"-3\" /><text class=\"lab\" transform=\"translate(0 11)\">41 B\\nSRR11597168</text></g><g class=\"a52 leaf node n51 sample\" transform=\"translate(9.05652 522.975)\"><path class=\"edge\" d=\"M 0 0 V -522.975 H -9.05652\" /><rect class=\"sym\" height=\"6\" width=\"6\" x=\"-3\" y=\"-3\" /><text class=\"lab\" transform=\"translate(0 11)\">51 B\\nSRR11597163</text></g><path class=\"edge\" d=\"M 0 0 V -653.719 H -285.28\" /><g class=\"mut m34 s15107\" transform=\"translate(0 -435.813)\"><line x1=\"0\" x2=\"0\" y1=\"0\" y2=\"435.813\" /><path class=\"sym\" d=\"M -3,-3 l 6,6 M -3,3 l 6,-6\" /><text class=\"lab rgt\" transform=\"translate(5 0)\">C15324T</text></g><g class=\"mut m62 s28930\" transform=\"translate(0 -217.906)\"><line x1=\"0\" x2=\"0\" y1=\"0\" y2=\"217.906\" /><path class=\"sym\" d=\"M -3,-3 l 6,6 M -3,3 l 6,-6\" /><text class=\"lab rgt\" transform=\"translate(5 0)\">C29303T</text></g><circle class=\"sym\" cx=\"0\" cy=\"0\" r=\"3\" /><text class=\"lab rgt\" transform=\"translate(3 -7.0)\">52</text></g><g class=\"a1 leaf node n53 sample\" transform=\"translate(330.563 1220.28)\"><path class=\"edge\" d=\"M 0 0 V -1220.28 H -330.563\" /><rect class=\"sym\" height=\"6\" width=\"6\" x=\"-3\" y=\"-3\" /><text class=\"lab\" transform=\"translate(0 11)\">53 B\\nSRR11597216</text></g><g class=\"a1 leaf m29 m35 m43 m63 node n55 s11604 s16080 s22925 s29072 sample\" transform=\"translate(348.676 1263.86)\"><path class=\"edge\" d=\"M 0 0 V -1263.86 H -348.676\" /><g class=\"mut m29 s11604\" transform=\"translate(0 -1011.09)\"><line x1=\"0\" x2=\"0\" y1=\"0\" y2=\"1011.09\" /><path class=\"sym\" d=\"M -3,-3 l 6,6 M -3,3 l 6,-6\" /><text class=\"lab rgt\" transform=\"translate(5 0)\">A11782G</text></g><g class=\"mut m35 s16080\" transform=\"translate(0 -758.314)\"><line x1=\"0\" x2=\"0\" y1=\"0\" y2=\"758.314\" /><path class=\"sym\" d=\"M -3,-3 l 6,6 M -3,3 l 6,-6\" /><text class=\"lab rgt\" transform=\"translate(5 0)\">C16308T</text></g><g class=\"mut m43 s22925\" transform=\"translate(0 -505.543)\"><line x1=\"0\" x2=\"0\" y1=\"0\" y2=\"505.543\" /><path class=\"sym\" d=\"M -3,-3 l 6,6 M -3,3 l 6,-6\" /><text class=\"lab rgt\" transform=\"translate(5 0)\">G23236T</text></g><g class=\"mut m63 s29072\" transform=\"translate(0 -252.771)\"><line x1=\"0\" x2=\"0\" y1=\"0\" y2=\"252.771\" /><path class=\"sym\" d=\"M -3,-3 l 6,6 M -3,3 l 6,-6\" /><text class=\"lab rgt\" transform=\"translate(5 0)\">G29449T</text></g><rect class=\"sym\" height=\"6\" width=\"6\" x=\"-3\" y=\"-3\" /><text class=\"lab\" transform=\"translate(0 11)\">55 B\\nSRR11597116</text></g><path class=\"edge\" d=\"M 0 0 V -43.5812 H 0.0\" /><rect class=\"sym\" height=\"6\" width=\"6\" x=\"-3\" y=\"-3\" /><text class=\"lab lft\" transform=\"translate(-3 -7.0)\">1</text></g><circle class=\"sym\" cx=\"0\" cy=\"0\" r=\"3\" /><text class=\"lab\" transform=\"translate(0 -11)\">0</text></g></g></g></g></g></svg>'"
      ]
     },
     "execution_count": 31,
     "metadata": {},
     "output_type": "execute_result"
    }
   ],
   "source": [
    "# Note that lineages A and B are characterised by differences at two site positions: 8782 and 28144.\n",
    "# Lineage B samples have 8782C and 28144T, whereas lineage A samples have 8782T and 28144C.\n",
    "# \n",
    "# The reference Wuhan-Hu-1 belongs to lineage B, and is arbitrarily chosen as the root here.\n",
    "# So, we should expect to see samples from lineage A grouped by two mutations: C8782T and T28144C.\n",
    "label_style = (\n",
    "    \".mut > .lab {font-size: 80%; transform: rotate(-25deg) translate(0px)}\"\n",
    "    \".node > .lab {font-size: 80%}\"\n",
    "    \".leaf > .lab {text-anchor: middle; transform: rotate(-35deg) translateY(10px)}\"\n",
    ")\n",
    "\n",
    "ts.draw_svg(\n",
    "    node_labels=node_labels,\n",
    "    mutation_labels=mut_labels,\n",
    "    y_axis=True,\n",
    "    time_scale=\"rank\",\n",
    "    x_scale=\"treewise\",\n",
    "    size=(950, 1500),\n",
    "    style=label_style,\n",
    ")\n"
   ]
  },
  {
   "cell_type": "markdown",
   "metadata": {},
   "source": [
    "## Constructing a recombinant\n",
    "\n",
    "Pick two samples with mutations on opposite sides of the sequence, and create a franken-haplotype"
   ]
  },
  {
   "cell_type": "code",
   "execution_count": 55,
   "metadata": {},
   "outputs": [
    {
     "name": "stdout",
     "output_type": "stream",
     "text": [
      "SRR11597163\n",
      "SRR11597188\n"
     ]
    }
   ],
   "source": [
    "for u in [51, 36]:\n",
    "    print(ts.node(u).metadata[\"strain\"])"
   ]
  },
  {
   "cell_type": "code",
   "execution_count": 48,
   "metadata": {},
   "outputs": [
    {
     "data": {
      "text/plain": [
       "[(15107, 'T'), (28930, 'T')]"
      ]
     },
     "execution_count": 48,
     "metadata": {},
     "output_type": "execute_result"
    }
   ],
   "source": [
    "def mutations_on_path(u, v):\n",
    "    tree = ts.first()\n",
    "    mutations = []\n",
    "    while u != v:\n",
    "        for mut_id in np.where(ts.mutations_node == u)[0]:\n",
    "            mut = ts.mutation(mut_id)\n",
    "            #pos = int(ts.sites_position[mut.site])\n",
    "            mutations.append((mut.site, mut.derived_state))\n",
    "        u = tree.parent(u)\n",
    "    return sorted(mutations)\n",
    "    "
   ]
  },
  {
   "cell_type": "code",
   "execution_count": 58,
   "metadata": {},
   "outputs": [
    {
     "name": "stdout",
     "output_type": "stream",
     "text": [
      "SRR11597188\t36\t[(801, 'G'), (2943, 'G'), (3694, 'T')]\n",
      "SRR11597163\t51\t[(15107, 'T'), (28930, 'T')]\n"
     ]
    }
   ],
   "source": [
    "strains = [\"SRR11597188\", \"SRR11597163\"]\n",
    "for strain in strains:\n",
    "    u = ts.samples()[ts.metadata[\"sc2ts\"][\"samples_strain\"].index(strain)]\n",
    "    print(strain, u, mutations_on_path(u, 1), sep=\"\\t\")"
   ]
  },
  {
   "cell_type": "code",
   "execution_count": null,
   "metadata": {},
   "outputs": [],
   "source": []
  }
 ],
 "metadata": {
  "kernelspec": {
   "display_name": "Python 3 (ipykernel)",
   "language": "python",
   "name": "python3"
  },
  "language_info": {
   "codemirror_mode": {
    "name": "ipython",
    "version": 3
   },
   "file_extension": ".py",
   "mimetype": "text/x-python",
   "name": "python",
   "nbconvert_exporter": "python",
   "pygments_lexer": "ipython3",
   "version": "3.10.12"
  }
 },
 "nbformat": 4,
 "nbformat_minor": 4
}
