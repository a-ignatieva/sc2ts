{
 "cells": [
  {
   "cell_type": "code",
   "execution_count": 1,
   "metadata": {},
   "outputs": [],
   "source": [
    "from collections import Counter\n",
    "import numpy as np\n",
    "import tskit\n"
   ]
  },
  {
   "cell_type": "code",
   "execution_count": null,
   "metadata": {},
   "outputs": [],
   "source": [
    "# Generate these trees by running pytest tests/test_inference.py\n",
    "ts_file = \"../tests/data/cache/2020-02-13.ts\"\n",
    "ts = tskit.load(ts_file)\n",
    "ts\n"
   ]
  },
  {
   "cell_type": "code",
   "execution_count": null,
   "metadata": {},
   "outputs": [],
   "source": [
    "mut_labels = {}\n",
    "mut_pos = []\n",
    "mut_types = []\n",
    "\n",
    "for mut in ts.mutations():\n",
    "    site = ts.site(mut.site)\n",
    "    pos = int(site.position)\n",
    "    older_mut = mut.parent >= 0\n",
    "    prev = ts.mutation(mut.parent).derived_state if older_mut else site.ancestral_state\n",
    "    mut_labels[mut.id] = f\"{prev}{pos}{mut.derived_state}\"\n",
    "    mut_pos.append(pos)\n",
    "    mut_types.append(f\"{prev}{mut.derived_state}\")\n",
    "\n",
    "# What is A1547-? One-base deletion in ORF1a.\n",
    "Counter(mut_types)\n"
   ]
  },
  {
   "cell_type": "code",
   "execution_count": null,
   "metadata": {},
   "outputs": [],
   "source": [
    "# There is one site having two mutations.\n",
    "mut_pos_counts = Counter(mut_pos)\n",
    "for k, v in mut_pos_counts.items():\n",
    "    if v > 1:\n",
    "        print(f\"pos: {k}; count: {v}\")\n"
   ]
  },
  {
   "cell_type": "code",
   "execution_count": null,
   "metadata": {},
   "outputs": [],
   "source": [
    "# There should be no recurrent mutations this early.\n",
    "all(np.array(list(Counter(mut_labels.values()).values()), dtype=int) == 1)\n"
   ]
  },
  {
   "cell_type": "code",
   "execution_count": null,
   "metadata": {},
   "outputs": [],
   "source": [
    "# The majority of samples should be from the lineage B, with some from the lineage A.\n",
    "node_labels = {}\n",
    "pango_labels = []\n",
    "for node in ts.nodes():\n",
    "    if node.is_sample() and \"Viridian_pangolin\" in node.metadata:\n",
    "        strain = node.metadata[\"strain\"]\n",
    "        pango = node.metadata[\"Viridian_pangolin\"]\n",
    "        node_labels[node.id] = f\"{pango}\\n{strain}\"\n",
    "        pango_labels.append(pango)\n",
    "    else:\n",
    "        node_labels[node.id] = f\"{node.id}\"\n",
    "Counter(pango_labels)\n"
   ]
  },
  {
   "cell_type": "code",
   "execution_count": null,
   "metadata": {},
   "outputs": [],
   "source": [
    "# Check polytomy at the top.\n",
    "ts.first().num_children_array\n"
   ]
  },
  {
   "cell_type": "code",
   "execution_count": null,
   "metadata": {},
   "outputs": [],
   "source": [
    "# Note that lineages A and B are characterised by differences at two site positions: 8782 and 28144.\n",
    "# Lineage B samples have 8782C and 28144T, whereas lineage A samples have 8782T and 28144C.\n",
    "# \n",
    "# The reference Wuhan-Hu-1 belongs to lineage B, and is arbitrarily chosen as the root here.\n",
    "# So, we should expect to see samples from lineage A grouped by two mutations: C8782T and T28144C.\n",
    "label_style = (\n",
    "    \".mut > .lab {font-size: 80%; transform: rotate(-25deg) translate(0px)}\"\n",
    "    \".node > .lab {font-size: 80%}\"\n",
    "    \".leaf > .lab {text-anchor: middle; transform: rotate(-35deg) translateY(10px)}\"\n",
    ")\n",
    "\n",
    "ts.draw_svg(\n",
    "    node_labels=node_labels,\n",
    "    mutation_labels=mut_labels,\n",
    "    y_axis=True,\n",
    "    time_scale=\"rank\",\n",
    "    x_scale=\"treewise\",\n",
    "    size=(950, 1500),\n",
    "    style=label_style,\n",
    ")\n"
   ]
  },
  {
   "cell_type": "code",
   "execution_count": null,
   "metadata": {},
   "outputs": [],
   "source": [
    "# Some of these nodes are unary nodes shown above.\n",
    "# That is, nodes 9, 45, 54.\n",
    "for node in ts.nodes():\n",
    "    if \"date_added\" in node.metadata:\n",
    "        print(node)\n"
   ]
  },
  {
   "cell_type": "code",
   "execution_count": null,
   "metadata": {},
   "outputs": [],
   "source": []
  }
 ],
 "metadata": {
  "kernelspec": {
   "display_name": "Python 3",
   "language": "python",
   "name": "python3"
  },
  "language_info": {
   "codemirror_mode": {
    "name": "ipython",
    "version": 3
   },
   "file_extension": ".py",
   "mimetype": "text/x-python",
   "name": "python",
   "nbconvert_exporter": "python",
   "pygments_lexer": "ipython3",
   "version": "3.11.9"
  }
 },
 "nbformat": 4,
 "nbformat_minor": 2
}
