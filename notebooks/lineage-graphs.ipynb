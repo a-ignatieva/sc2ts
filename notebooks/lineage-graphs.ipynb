{
 "cells": [
  {
   "cell_type": "markdown",
   "id": "498996a6",
   "metadata": {},
   "source": [
    "# Lineage graphs"
   ]
  },
  {
   "cell_type": "code",
   "execution_count": null,
   "id": "06dc368e",
   "metadata": {},
   "outputs": [],
   "source": [
    "import tskit\n",
    "import tszip\n",
    "\n",
    "import sys\n",
    "sys.path.append(\"../\")\n",
    "import sc2ts.utils"
   ]
  },
  {
   "cell_type": "code",
   "execution_count": null,
   "id": "52db83ff",
   "metadata": {},
   "outputs": [],
   "source": [
    "import importlib\n",
    "importlib.reload(sc2ts.utils)"
   ]
  },
  {
   "cell_type": "code",
   "execution_count": null,
   "id": "ce9be372",
   "metadata": {},
   "outputs": [],
   "source": [
    "mutations_json_filepath = \"../../sc2ts_ts/consensus_mutations.json\""
   ]
  },
  {
   "cell_type": "code",
   "execution_count": null,
   "id": "435f05c0",
   "metadata": {},
   "outputs": [],
   "source": [
    "# ts_path = \"../../sc2ts_ts/upgma-full-md-30-mm-3-2021-06-30-recinfo-gisaid-il\"\n",
    "ts_path = \"../../sc2ts_ts/upgma-mds-1000-md-30-mm-3-2022-06-30-recinfo-gisaid-il\"\n",
    "ts = tszip.decompress(ts_path + \".ts.tsz\")\n",
    "ti = sc2ts.utils.TreeInfo(ts)"
   ]
  },
  {
   "cell_type": "code",
   "execution_count": null,
   "id": "3c96d120",
   "metadata": {
    "scrolled": true
   },
   "outputs": [],
   "source": [
    "df_pango_rec = ti.pango_recombinant_lineages_report()\n",
    "df_pango_rec"
   ]
  },
  {
   "cell_type": "code",
   "execution_count": null,
   "id": "5fff50e5",
   "metadata": {},
   "outputs": [],
   "source": [
    "importlib.reload(sc2ts.utils)\n",
    "sc2ts.utils.sample_subgraph(\n",
    "    712029, \n",
    "    ts, \n",
    "    ti, \n",
    "    mutations_json_filepath,\n",
    "    imputation_source='Imputed_GISAID_lineage',\n",
    "    filepath=\"712029.pdf\"\n",
    ")"
   ]
  }
 ],
 "metadata": {
  "kernelspec": {
   "display_name": "Python 3 (ipykernel)",
   "language": "python",
   "name": "python3"
  },
  "language_info": {
   "codemirror_mode": {
    "name": "ipython",
    "version": 3
   },
   "file_extension": ".py",
   "mimetype": "text/x-python",
   "name": "python",
   "nbconvert_exporter": "python",
   "pygments_lexer": "ipython3",
   "version": "3.10.5"
  }
 },
 "nbformat": 4,
 "nbformat_minor": 5
}
