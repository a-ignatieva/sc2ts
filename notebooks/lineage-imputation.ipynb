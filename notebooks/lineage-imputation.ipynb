{
 "cells": [
  {
   "cell_type": "markdown",
   "id": "498996a6",
   "metadata": {},
   "source": [
    "# Imputing lineages for reconstructed internal nodes"
   ]
  },
  {
   "cell_type": "code",
   "execution_count": 1,
   "id": "06dc368e",
   "metadata": {},
   "outputs": [],
   "source": [
    "import tskit\n",
    "import tszip\n",
    "\n",
    "import numpy as np\n",
    "from sklearn import tree\n",
    "from tqdm.notebook import tqdm\n",
    "import matplotlib.pyplot as plt\n",
    "import pandas as pd\n",
    "\n",
    "import sys\n",
    "sys.path.append(\"../\")\n",
    "import sc2ts.utils\n",
    "import sc2ts.lineages as lineages"
   ]
  },
  {
   "cell_type": "code",
   "execution_count": 3,
   "id": "2999c04a",
   "metadata": {},
   "outputs": [
    {
     "name": "stdout",
     "output_type": "stream",
     "text": [
      "Multiallelic sites: 272 out of 4170\n",
      "Number of lineages: 2046\n"
     ]
    }
   ],
   "source": [
    "# Read in lineage defining mutations\n",
    "# This is from covidcg.org (13 Jan 2023):\n",
    "# Compare AA mutations -> download -> consensus mutations -> NT, 0.9 consensus threshold\n",
    "linmuts_dict = lineages.read_in_mutations(\"../sc2ts/data/consensus_mutations.json\")"
   ]
  },
  {
   "cell_type": "code",
   "execution_count": 4,
   "id": "9eebf4c2",
   "metadata": {
    "scrolled": true
   },
   "outputs": [],
   "source": [
    "# Read in lineage defining mutations as a data frame\n",
    "# ** Assuming here B is the root lineage **\n",
    "df, df_ohe, ohe = lineages.read_in_mutations_json(\"../sc2ts/data/consensus_mutations.json\")"
   ]
  },
  {
   "cell_type": "code",
   "execution_count": 5,
   "id": "1ef5f64c",
   "metadata": {},
   "outputs": [],
   "source": [
    "# Make a decision tree\n",
    "y = df_ohe.index # lineage labels\n",
    "clf = tree.DecisionTreeClassifier()\n",
    "clf = clf.fit(df_ohe, y)"
   ]
  },
  {
   "cell_type": "code",
   "execution_count": 6,
   "id": "387bae91",
   "metadata": {
    "scrolled": true
   },
   "outputs": [
    {
     "name": "stdout",
     "output_type": "stream",
     "text": [
      "AY.104 same mutations as AY.110\n",
      "AY.120 same mutations as AY.120.2\n",
      "AY.104 same mutations as AY.131\n",
      "AY.104 same mutations as AY.33.1\n",
      "AY.102 same mutations as AY.78\n",
      "AY.104 same mutations as AY.92\n",
      "B.1.1 same mutations as B.1.1.174\n",
      "B.1.1.142 same mutations as B.1.1.257\n",
      "B.1.1.319 same mutations as B.1.1.370\n",
      "B.1.1 same mutations as B.1.1.399\n",
      "B.1.1.319 same mutations as B.1.1.409\n",
      "B.1.1 same mutations as B.1.1.411\n",
      "B.1.1 same mutations as B.1.1.419\n",
      "B.1.1 same mutations as B.1.1.426\n",
      "B.1 same mutations as B.1.169\n",
      "B.1 same mutations as B.1.247\n",
      "B.1 same mutations as B.1.284\n",
      "B.1.119 same mutations as B.1.326\n",
      "B.1 same mutations as B.1.383\n",
      "B.1.119 same mutations as B.1.434\n",
      "B.1 same mutations as B.1.510\n",
      "B.1 same mutations as B.1.535\n",
      "B.1.369 same mutations as B.1.564\n",
      "B.1.119 same mutations as B.1.576\n",
      "B.1.119 same mutations as B.1.579\n",
      "B.1.521 same mutations as B.1.590\n",
      "B.1.9 same mutations as B.1.9.3\n",
      "BA.2 same mutations as BA.2.65\n",
      "B.1.1.33 same mutations as N.8\n",
      "2017 29 29\n"
     ]
    }
   ],
   "source": [
    "# Check tree works\n",
    "y_pred = clf.predict(df_ohe)\n",
    "correct = incorrect = lineage_definition_issue = 0\n",
    "for yy, yy_pred in zip(y, y_pred):\n",
    "    if yy == yy_pred:\n",
    "        correct += 1\n",
    "    else:\n",
    "        incorrect += 1\n",
    "        if linmuts_dict.get_mutations(yy) == linmuts_dict.get_mutations(yy_pred):\n",
    "            lineage_definition_issue += 1\n",
    "            print(yy_pred, \"same mutations as\", yy)\n",
    "print(correct, incorrect, lineage_definition_issue)  "
   ]
  },
  {
   "cell_type": "markdown",
   "id": "6bbc3cca",
   "metadata": {},
   "source": [
    "Have an issue with the list as some lineages have the same characteristic mutations."
   ]
  },
  {
   "cell_type": "markdown",
   "id": "bd69bb4f",
   "metadata": {},
   "source": [
    "# ts lineage imputation"
   ]
  },
  {
   "cell_type": "code",
   "execution_count": 18,
   "id": "3930d1da",
   "metadata": {},
   "outputs": [
    {
     "data": {
      "text/html": [
       "\n",
       "            <div>\n",
       "              <style>\n",
       "                .tskit-table thead tr th {text-align: left;padding: 0.5em 0.5em;}\n",
       "                .tskit-table tbody tr td {padding: 0.5em 0.5em;}\n",
       "                .tskit-table tbody tr td:first-of-type {text-align: left;}\n",
       "                .tskit-details-label {vertical-align: top; padding-right:5px;}\n",
       "                .tskit-table-set {display: inline-flex;flex-wrap: wrap;margin: -12px 0 0 -12px;width: calc(100% + 12px);}\n",
       "                .tskit-table-set-table {margin: 12px 0 0 12px;}\n",
       "                details {display: inline-block;}\n",
       "                summary {cursor: pointer; outline: 0; display: list-item;}\n",
       "              </style>\n",
       "              <div class=\"tskit-table-set\">\n",
       "                <div class=\"tskit-table-set-table\">\n",
       "                  <table class=\"tskit-table\">\n",
       "                    <thead>\n",
       "                      <tr>\n",
       "                        <th style=\"padding:0;line-height:21px;\">\n",
       "                          <img style=\"height: 32px;display: inline-block;padding: 3px 5px 3px 0;\" src=\"https://raw.githubusercontent.com/tskit-dev/administrative/main/tskit_logo.svg\"/>\n",
       "                          <a target=\"_blank\" href=\"https://tskit.dev/tskit/docs/latest/python-api.html#the-treesequence-class\"> Tree Sequence </a>\n",
       "                        </th>\n",
       "                      </tr>\n",
       "                    </thead>\n",
       "                    <tbody>\n",
       "                      <tr><td>Trees</td><td>1</td></tr>\n",
       "                      <tr><td>Sequence Length</td><td>29904.0</td></tr>\n",
       "                      <tr><td>Time Units</td><td>days</td></tr>\n",
       "                      <tr><td>Sample Nodes</td><td>108</td></tr>\n",
       "                      <tr><td>Total Size</td><td>1.3 MiB</td></tr>\n",
       "                      <tr>\n",
       "                        <td>Metadata</td><td style=\"text-align: left;\">No Metadata</td></tr>\n",
       "                    </tbody>\n",
       "                  </table>\n",
       "                </div>\n",
       "                <div class=\"tskit-table-set-table\">\n",
       "                  <table class=\"tskit-table\">\n",
       "                    <thead>\n",
       "                      <tr>\n",
       "                        <th style=\"line-height:21px;\">Table</th>\n",
       "                        <th>Rows</th>\n",
       "                        <th>Size</th>\n",
       "                        <th>Has Metadata</th>\n",
       "                      </tr>\n",
       "                    </thead>\n",
       "                    <tbody>\n",
       "                    \n",
       "                  <tr>\n",
       "                    <td>Edges</td>\n",
       "                      <td>121</td>\n",
       "                      <td>3.8 KiB</td>\n",
       "                      <td style=\"text-align: center;\">\n",
       "                        \n",
       "                      </td>\n",
       "                    </tr>\n",
       "                \n",
       "                  <tr>\n",
       "                    <td>Individuals</td>\n",
       "                      <td>0</td>\n",
       "                      <td>24 Bytes</td>\n",
       "                      <td style=\"text-align: center;\">\n",
       "                        \n",
       "                      </td>\n",
       "                    </tr>\n",
       "                \n",
       "                  <tr>\n",
       "                    <td>Migrations</td>\n",
       "                      <td>0</td>\n",
       "                      <td>8 Bytes</td>\n",
       "                      <td style=\"text-align: center;\">\n",
       "                        \n",
       "                      </td>\n",
       "                    </tr>\n",
       "                \n",
       "                  <tr>\n",
       "                    <td>Mutations</td>\n",
       "                      <td>154</td>\n",
       "                      <td>6.0 KiB</td>\n",
       "                      <td style=\"text-align: center;\">\n",
       "                        ✅\n",
       "                      </td>\n",
       "                    </tr>\n",
       "                \n",
       "                  <tr>\n",
       "                    <td>Nodes</td>\n",
       "                      <td>122</td>\n",
       "                      <td>56.0 KiB</td>\n",
       "                      <td style=\"text-align: center;\">\n",
       "                        ✅\n",
       "                      </td>\n",
       "                    </tr>\n",
       "                \n",
       "                  <tr>\n",
       "                    <td>Populations</td>\n",
       "                      <td>0</td>\n",
       "                      <td>8 Bytes</td>\n",
       "                      <td style=\"text-align: center;\">\n",
       "                        \n",
       "                      </td>\n",
       "                    </tr>\n",
       "                \n",
       "                  <tr>\n",
       "                    <td>Provenances</td>\n",
       "                      <td>1</td>\n",
       "                      <td>874 Bytes</td>\n",
       "                      <td style=\"text-align: center;\">\n",
       "                        \n",
       "                      </td>\n",
       "                    </tr>\n",
       "                \n",
       "                  <tr>\n",
       "                    <td>Sites</td>\n",
       "                      <td>29422</td>\n",
       "                      <td>1.3 MiB</td>\n",
       "                      <td style=\"text-align: center;\">\n",
       "                        ✅\n",
       "                      </td>\n",
       "                    </tr>\n",
       "                \n",
       "                    </tbody>\n",
       "                  </table>\n",
       "                </div>\n",
       "              </div>\n",
       "            </div>\n",
       "            "
      ],
      "text/plain": [
       "<tskit.trees.TreeSequence at 0x15ad16320>"
      ]
     },
     "execution_count": 18,
     "metadata": {},
     "output_type": "execute_result"
    }
   ],
   "source": [
    "ts_path = \"../../sc2ts_ts/upgma-full-md-30-mm-3-2020-02-01\"\n",
    "# ts_path = \"../../sc2ts_ts/mp-mds-1000-md-30-mm-3-2022-06-30\"\n",
    "# ts_path = \"../../sc2ts_ts/mp-full-md-30-mm-3-2021-05-09\"\n",
    "\n",
    "ts = tskit.load(ts_path + \".ts\")\n",
    "\n",
    "ti = sc2ts.utils.TreeInfo(ts)"
   ]
  },
  {
   "cell_type": "code",
   "execution_count": 34,
   "id": "68fd5d52",
   "metadata": {
    "scrolled": true
   },
   "outputs": [
    {
     "data": {
      "application/vnd.jupyter.widget-view+json": {
       "model_id": "0d213d02a5da43c9a117ddb8be5073b4",
       "version_major": 2,
       "version_minor": 0
      },
      "text/plain": [
       "  0%|          | 0/121 [00:00<?, ?it/s]"
      ]
     },
     "metadata": {},
     "output_type": "display_data"
    },
    {
     "name": "stdout",
     "output_type": "stream",
     "text": [
      "------------------------------\n",
      "Sample nodes imputed: 108 out of possible 108\n",
      "Internal nodes imputed: 14 out of possible 14\n",
      "Total imputed: 122 out of possible 122\n",
      "Number of recombinants (not imputed): 0\n",
      "------------------------------\n",
      "Correctly imputed samples: 106 ( 98.148 % )\n",
      "Incorrectly imputed samples: 2 ( 1.852 % )\n",
      "Imputed using inheritance: 92 ( 75.41 % ) decision tree: 30 ( 24.59 % )\n",
      "------------------------------\n"
     ]
    }
   ],
   "source": [
    "il, edited_ts = lineages.impute_lineages(ts, ti, linmuts_dict, df, ohe, clf, internal_only = False)"
   ]
  },
  {
   "cell_type": "code",
   "execution_count": null,
   "id": "d6ec739b",
   "metadata": {},
   "outputs": [],
   "source": [
    "edited_ts.dump(ts_path + \"-il.ts\")"
   ]
  }
 ],
 "metadata": {
  "kernelspec": {
   "display_name": "Python 3 (ipykernel)",
   "language": "python",
   "name": "python3"
  },
  "language_info": {
   "codemirror_mode": {
    "name": "ipython",
    "version": 3
   },
   "file_extension": ".py",
   "mimetype": "text/x-python",
   "name": "python",
   "nbconvert_exporter": "python",
   "pygments_lexer": "ipython3",
   "version": "3.10.5"
  }
 },
 "nbformat": 4,
 "nbformat_minor": 5
}
