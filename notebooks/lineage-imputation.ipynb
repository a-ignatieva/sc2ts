{
 "cells": [
  {
   "cell_type": "markdown",
   "id": "498996a6",
   "metadata": {},
   "source": [
    "# Imputing lineages for reconstructed internal nodes"
   ]
  },
  {
   "cell_type": "code",
   "execution_count": 1,
   "id": "06dc368e",
   "metadata": {},
   "outputs": [],
   "source": [
    "import tskit\n",
    "import tszip\n",
    "\n",
    "import numpy as np\n",
    "from sklearn import tree\n",
    "from tqdm.notebook import tqdm\n",
    "import matplotlib.pyplot as plt\n",
    "import pandas as pd\n",
    "\n",
    "import sys\n",
    "sys.path.append(\"../\")\n",
    "import sc2ts.utils\n",
    "import sc2ts.lineages as lineages"
   ]
  },
  {
   "cell_type": "code",
   "execution_count": 2,
   "id": "2999c04a",
   "metadata": {},
   "outputs": [
    {
     "name": "stdout",
     "output_type": "stream",
     "text": [
      "Multiallelic sites: 272 out of 4170\n",
      "Number of lineages: 2046\n"
     ]
    }
   ],
   "source": [
    "# Read in lineage defining mutations\n",
    "# This is from covidcg.org (13 Jan 2023):\n",
    "# Compare AA mutations -> download -> consensus mutations -> NT, 0.9 consensus threshold\n",
    "linmuts_dict = lineages.read_in_mutations(\"../sc2ts/data/consensus_mutations.json\")"
   ]
  },
  {
   "cell_type": "code",
   "execution_count": 3,
   "id": "9eebf4c2",
   "metadata": {
    "scrolled": true
   },
   "outputs": [],
   "source": [
    "# Read in lineage defining mutations as a data frame\n",
    "# ** Assuming here B is the root lineage **\n",
    "df, df_ohe, ohe = lineages.read_in_mutations_json(\"../sc2ts/data/consensus_mutations.json\")"
   ]
  },
  {
   "cell_type": "code",
   "execution_count": 4,
   "id": "1ef5f64c",
   "metadata": {},
   "outputs": [],
   "source": [
    "# Make a decision tree\n",
    "y = df_ohe.index # lineage labels\n",
    "clf = tree.DecisionTreeClassifier()\n",
    "clf = clf.fit(df_ohe, y)"
   ]
  },
  {
   "cell_type": "code",
   "execution_count": 5,
   "id": "387bae91",
   "metadata": {
    "scrolled": true
   },
   "outputs": [
    {
     "name": "stdout",
     "output_type": "stream",
     "text": [
      "AY.104 same mutations as AY.110\n",
      "AY.120 same mutations as AY.120.2\n",
      "AY.104 same mutations as AY.131\n",
      "AY.104 same mutations as AY.33.1\n",
      "AY.102 same mutations as AY.78\n",
      "AY.104 same mutations as AY.92\n",
      "B.1.1 same mutations as B.1.1.174\n",
      "B.1.1.142 same mutations as B.1.1.257\n",
      "B.1.1.319 same mutations as B.1.1.370\n",
      "B.1.1 same mutations as B.1.1.399\n",
      "B.1.1.319 same mutations as B.1.1.409\n",
      "B.1.1 same mutations as B.1.1.411\n",
      "B.1.1 same mutations as B.1.1.419\n",
      "B.1.1 same mutations as B.1.1.426\n",
      "B.1 same mutations as B.1.169\n",
      "B.1 same mutations as B.1.247\n",
      "B.1 same mutations as B.1.284\n",
      "B.1.119 same mutations as B.1.326\n",
      "B.1 same mutations as B.1.383\n",
      "B.1.119 same mutations as B.1.434\n",
      "B.1 same mutations as B.1.510\n",
      "B.1 same mutations as B.1.535\n",
      "B.1.369 same mutations as B.1.564\n",
      "B.1.119 same mutations as B.1.576\n",
      "B.1.119 same mutations as B.1.579\n",
      "B.1.521 same mutations as B.1.590\n",
      "B.1.9 same mutations as B.1.9.3\n",
      "BA.2 same mutations as BA.2.65\n",
      "B.1.1.33 same mutations as N.8\n",
      "2017 29 29\n"
     ]
    }
   ],
   "source": [
    "# Check tree works\n",
    "y_pred = clf.predict(df_ohe)\n",
    "correct = incorrect = lineage_definition_issue = 0\n",
    "for yy, yy_pred in zip(y, y_pred):\n",
    "    if yy == yy_pred:\n",
    "        correct += 1\n",
    "    else:\n",
    "        incorrect += 1\n",
    "        if linmuts_dict.get_mutations(yy) == linmuts_dict.get_mutations(yy_pred):\n",
    "            lineage_definition_issue += 1\n",
    "            print(yy_pred, \"same mutations as\", yy)\n",
    "print(correct, incorrect, lineage_definition_issue)  "
   ]
  },
  {
   "cell_type": "markdown",
   "id": "6bbc3cca",
   "metadata": {},
   "source": [
    "Have an issue with the list as some lineages have the same characteristic mutations."
   ]
  },
  {
   "cell_type": "markdown",
   "id": "bd69bb4f",
   "metadata": {},
   "source": [
    "# ts lineage imputation"
   ]
  },
  {
   "cell_type": "code",
   "execution_count": 6,
   "id": "3930d1da",
   "metadata": {},
   "outputs": [
    {
     "name": "stderr",
     "output_type": "stream",
     "text": [
      "Counting descendants: 100%|████████████████████████████████████████████| 122/122 [00:00<00:00, 1847310.79it/s]\n",
      "Indexing metadata   : 100%|█████████████████████████████████████████████| 122/122 [00:00<00:00, 106472.14it/s]"
     ]
    },
    {
     "name": "stdout",
     "output_type": "stream",
     "text": [
      "Recording relevant mutations for each node...\n"
     ]
    },
    {
     "name": "stderr",
     "output_type": "stream",
     "text": [
      "\n"
     ]
    },
    {
     "data": {
      "application/vnd.jupyter.widget-view+json": {
       "model_id": "e397f01e3f19435baa3c98377e8fe1f7",
       "version_major": 2,
       "version_minor": 0
      },
      "text/plain": [
       "  0%|          | 0/154 [00:00<?, ?it/s]"
      ]
     },
     "metadata": {},
     "output_type": "display_data"
    },
    {
     "name": "stdout",
     "output_type": "stream",
     "text": [
      "Inferring lineages...\n"
     ]
    },
    {
     "data": {
      "application/vnd.jupyter.widget-view+json": {
       "model_id": "363c644377a14ffe8d701214e5ac5df3",
       "version_major": 2,
       "version_minor": 0
      },
      "text/plain": [
       "  0%|          | 0/121 [00:00<?, ?it/s]"
      ]
     },
     "metadata": {},
     "output_type": "display_data"
    },
    {
     "name": "stdout",
     "output_type": "stream",
     "text": [
      "------------------------------\n",
      "Sample nodes imputed: 108 out of possible 108\n",
      "Internal nodes imputed: 14 out of possible 14\n",
      "Total imputed: 122 out of possible 122\n",
      "Number of recombinants (not imputed): 0\n",
      "------------------------------\n",
      "Correctly imputed samples: 106 ( 98.148 % )\n",
      "Incorrectly imputed samples: 2 ( 1.852 % )\n",
      "Imputed using inheritance: 92 ( 75.41 % ) decision tree: 30 ( 24.59 % )\n",
      "------------------------------\n",
      "Time: 0.7717971801757812\n"
     ]
    }
   ],
   "source": [
    "ts_path = \"../../sc2ts_ts/upgma-full-md-30-mm-3-2020-02-01\"\n",
    "\n",
    "ts = tskit.load(ts_path + \".ts\")\n",
    "ti = sc2ts.utils.TreeInfo(ts)\n",
    "il, edited_ts = lineages.impute_lineages(ts, ti, linmuts_dict, df, ohe, clf, internal_only = False)\n",
    "edited_ts.dump(ts_path + \"-il.ts\")"
   ]
  },
  {
   "cell_type": "code",
   "execution_count": 7,
   "id": "3907aca2",
   "metadata": {},
   "outputs": [
    {
     "name": "stderr",
     "output_type": "stream",
     "text": [
      "Counting descendants: 100%|██████████████████████████████████████| 783305/783305 [00:00<00:00, 3416311.87it/s]\n",
      "Indexing metadata   : 100%|████████████████████████████████████████| 783305/783305 [00:08<00:00, 97079.91it/s]\n"
     ]
    },
    {
     "name": "stdout",
     "output_type": "stream",
     "text": [
      "Recording relevant mutations for each node...\n"
     ]
    },
    {
     "data": {
      "application/vnd.jupyter.widget-view+json": {
       "model_id": "a8fa9ab377604b439d0649037995d4a3",
       "version_major": 2,
       "version_minor": 0
      },
      "text/plain": [
       "  0%|          | 0/1060606 [00:00<?, ?it/s]"
      ]
     },
     "metadata": {},
     "output_type": "display_data"
    },
    {
     "name": "stdout",
     "output_type": "stream",
     "text": [
      "Inferring lineages...\n"
     ]
    },
    {
     "data": {
      "application/vnd.jupyter.widget-view+json": {
       "model_id": "e05446806b0b45be98e8895c36934ca2",
       "version_major": 2,
       "version_minor": 0
      },
      "text/plain": [
       "  0%|          | 0/781215 [00:00<?, ?it/s]"
      ]
     },
     "metadata": {},
     "output_type": "display_data"
    },
    {
     "name": "stdout",
     "output_type": "stream",
     "text": [
      "------------------------------\n",
      "Sample nodes imputed: 657239 out of possible 657239\n",
      "Internal nodes imputed: 123977 out of possible 123977\n",
      "Total imputed: 781216 out of possible 781216\n",
      "Number of recombinants (not imputed): 2089\n",
      "------------------------------\n",
      "Correctly imputed samples: 638095 ( 97.793 % )\n",
      "Incorrectly imputed samples: 14398 ( 2.207 % )\n",
      "Imputed using inheritance: 519909 ( 66.551 % ) decision tree: 261307 ( 33.449 % )\n",
      "------------------------------\n",
      "Time: 699.885528087616\n"
     ]
    }
   ],
   "source": [
    "ts_path = \"../../sc2ts_ts/mp-mds-1000-md-30-mm-3-2022-06-30\"\n",
    "\n",
    "ts = tskit.load(ts_path + \".ts\")\n",
    "ti = sc2ts.utils.TreeInfo(ts)\n",
    "il, edited_ts = lineages.impute_lineages(ts, ti, linmuts_dict, df, ohe, clf, internal_only = False)\n",
    "edited_ts.dump(ts_path + \"-il.ts\")"
   ]
  },
  {
   "cell_type": "code",
   "execution_count": 8,
   "id": "8b9ea498",
   "metadata": {},
   "outputs": [
    {
     "name": "stderr",
     "output_type": "stream",
     "text": [
      "Counting descendants: 100%|████████████████████████████████████| 1098284/1098284 [00:00<00:00, 3090874.24it/s]\n",
      "Indexing metadata   : 100%|██████████████████████████████████████| 1098284/1098284 [00:12<00:00, 87594.67it/s]\n"
     ]
    },
    {
     "name": "stdout",
     "output_type": "stream",
     "text": [
      "Recording relevant mutations for each node...\n"
     ]
    },
    {
     "data": {
      "application/vnd.jupyter.widget-view+json": {
       "model_id": "fc4666992e9f4aafaf875a08fdb76c62",
       "version_major": 2,
       "version_minor": 0
      },
      "text/plain": [
       "  0%|          | 0/944707 [00:00<?, ?it/s]"
      ]
     },
     "metadata": {},
     "output_type": "display_data"
    },
    {
     "name": "stdout",
     "output_type": "stream",
     "text": [
      "Inferring lineages...\n"
     ]
    },
    {
     "data": {
      "application/vnd.jupyter.widget-view+json": {
       "model_id": "1c0cecc164044c5391e72ac8b91bbe9f",
       "version_major": 2,
       "version_minor": 0
      },
      "text/plain": [
       "  0%|          | 0/1095219 [00:00<?, ?it/s]"
      ]
     },
     "metadata": {},
     "output_type": "display_data"
    },
    {
     "name": "stdout",
     "output_type": "stream",
     "text": [
      "------------------------------\n",
      "Sample nodes imputed: 949627 out of possible 949627\n",
      "Internal nodes imputed: 145593 out of possible 145593\n",
      "Total imputed: 1095220 out of possible 1095220\n",
      "Number of recombinants (not imputed): 3064\n",
      "------------------------------\n",
      "Correctly imputed samples: 936075 ( 99.228 % )\n",
      "Incorrectly imputed samples: 7278 ( 0.772 % )\n",
      "Imputed using inheritance: 872682 ( 79.681 % ) decision tree: 222538 ( 20.319 % )\n",
      "------------------------------\n",
      "Time: 754.7225022315979\n"
     ]
    }
   ],
   "source": [
    "ts_path = \"../../sc2ts_ts/mp-full-md-30-mm-3-2021-05-09\"\n",
    "\n",
    "ts = tskit.load(ts_path + \".ts\")\n",
    "ti = sc2ts.utils.TreeInfo(ts)\n",
    "il, edited_ts = lineages.impute_lineages(ts, ti, linmuts_dict, df, ohe, clf, internal_only = False)\n",
    "edited_ts.dump(ts_path + \"-il.ts\")"
   ]
  }
 ],
 "metadata": {
  "kernelspec": {
   "display_name": "Python 3 (ipykernel)",
   "language": "python",
   "name": "python3"
  },
  "language_info": {
   "codemirror_mode": {
    "name": "ipython",
    "version": 3
   },
   "file_extension": ".py",
   "mimetype": "text/x-python",
   "name": "python",
   "nbconvert_exporter": "python",
   "pygments_lexer": "ipython3",
   "version": "3.10.5"
  }
 },
 "nbformat": 4,
 "nbformat_minor": 5
}
