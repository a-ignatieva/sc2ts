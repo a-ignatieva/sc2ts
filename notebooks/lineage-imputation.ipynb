{
 "cells": [
  {
   "cell_type": "markdown",
   "id": "498996a6",
   "metadata": {},
   "source": [
    "# Imputing lineages for reconstructed internal nodes"
   ]
  },
  {
   "cell_type": "code",
   "execution_count": null,
   "id": "06dc368e",
   "metadata": {},
   "outputs": [],
   "source": [
    "import tskit\n",
    "import tszip\n",
    "\n",
    "import sys\n",
    "sys.path.append(\"../\")\n",
    "import sc2ts.utils"
   ]
  },
  {
   "cell_type": "markdown",
   "id": "bd69bb4f",
   "metadata": {},
   "source": [
    "# ts lineage imputation"
   ]
  },
  {
   "cell_type": "code",
   "execution_count": null,
   "id": "981790e9",
   "metadata": {},
   "outputs": [],
   "source": [
    "mutations_json_filepath = \"../../sc2ts_ts/consensus_mutations.json\""
   ]
  },
  {
   "cell_type": "code",
   "execution_count": null,
   "id": "3930d1da",
   "metadata": {},
   "outputs": [],
   "source": [
    "ts_path = \"../../sc2ts_ts/upgma-full-md-30-mm-3-2020-02-01\"\n",
    "\n",
    "ts = tskit.load(ts_path + \".ts\")\n",
    "ti = sc2ts.utils.TreeInfo(ts)\n",
    "il, edited_ts = sc2ts.utils.lineage_imputation(mutations_json_filepath,\n",
    "                                               ts, \n",
    "                                               ti,\n",
    "                                               internal_only = False,\n",
    "                                               verbose = True)\n",
    "edited_ts.dump(ts_path + \"-il.ts\")\n",
    "tszip.compress(edited_ts, ts_path + \"-il.ts.tsz\")"
   ]
  },
  {
   "cell_type": "code",
   "execution_count": null,
   "id": "3907aca2",
   "metadata": {},
   "outputs": [],
   "source": [
    "ts_path = \"../../sc2ts_ts/mp-mds-1000-md-30-mm-3-2022-06-30\"\n",
    "\n",
    "ts = tskit.load(ts_path + \".ts\")\n",
    "ti = sc2ts.utils.TreeInfo(ts)\n",
    "il, edited_ts = sc2ts.utils.lineage_imputation(mutations_json_filepath,\n",
    "                                               ts, \n",
    "                                               ti,\n",
    "                                               internal_only = False)\n",
    "edited_ts.dump(ts_path + \"-il.ts\")\n",
    "tszip.compress(edited_ts, ts_path + \"-il.ts.tsz\")"
   ]
  },
  {
   "cell_type": "code",
   "execution_count": null,
   "id": "8b9ea498",
   "metadata": {},
   "outputs": [],
   "source": [
    "ts_path = \"../../sc2ts_ts/mp-full-md-30-mm-3-2021-05-09\"\n",
    "\n",
    "ts = tskit.load(ts_path + \".ts\")\n",
    "ti = sc2ts.utils.TreeInfo(ts)\n",
    "il, edited_ts = sc2ts.utils.lineage_imputation(mutations_json_filepath,\n",
    "                                               ts, \n",
    "                                               ti,\n",
    "                                               internal_only = False)\n",
    "edited_ts.dump(ts_path + \"-il.ts\")\n",
    "tszip.compress(edited_ts, ts_path + \"-il.ts.tsz\")"
   ]
  }
 ],
 "metadata": {
  "kernelspec": {
   "display_name": "Python 3 (ipykernel)",
   "language": "python",
   "name": "python3"
  },
  "language_info": {
   "codemirror_mode": {
    "name": "ipython",
    "version": 3
   },
   "file_extension": ".py",
   "mimetype": "text/x-python",
   "name": "python",
   "nbconvert_exporter": "python",
   "pygments_lexer": "ipython3",
   "version": "3.10.5"
  }
 },
 "nbformat": 4,
 "nbformat_minor": 5
}
