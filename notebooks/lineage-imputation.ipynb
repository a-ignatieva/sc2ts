{
 "cells": [
  {
   "cell_type": "markdown",
   "id": "498996a6",
   "metadata": {},
   "source": [
    "# Imputing lineages for reconstructed internal nodes"
   ]
  },
  {
   "cell_type": "code",
   "execution_count": null,
   "id": "06dc368e",
   "metadata": {},
   "outputs": [],
   "source": [
    "import tskit\n",
    "import tszip\n",
    "import pandas as pd\n",
    "import tqdm\n",
    "\n",
    "import sys\n",
    "sys.path.append(\"../\")\n",
    "import sc2ts.utils\n",
    "import sc2ts.lineages"
   ]
  },
  {
   "cell_type": "code",
   "execution_count": null,
   "id": "26f1cf95",
   "metadata": {},
   "outputs": [],
   "source": [
    "ts_long_path = \"../../sc2ts_ts/upgma-mds-1000-md-30-mm-3-2022-06-30-recinfo\"\n",
    "ts_wide_path = \"../../sc2ts_ts/upgma-full-md-30-mm-3-2021-06-30-recinfo\"\n",
    "ts_long = tszip.decompress(ts_long_path + \"-il.ts.tsz\")\n",
    "ts_wide = tszip.decompress(ts_wide_path + \"-il.ts.tsz\")\n",
    "ti_long = sc2ts.utils.TreeInfo(ts_long)\n",
    "ti_wide = sc2ts.utils.TreeInfo(ts_wide)\n",
    "mutations_json_filepath = \"../../sc2ts_ts/consensus_mutations.json\"\n",
    "gisaid_metadata_filepath = \"../../sc2ts_ts/metadata_tsv_2023_03_09/metadata.tsv\""
   ]
  },
  {
   "cell_type": "markdown",
   "id": "4367b112",
   "metadata": {},
   "source": [
    "# GISAID vs Nextclade lineage comparison"
   ]
  },
  {
   "cell_type": "code",
   "execution_count": null,
   "id": "77546779",
   "metadata": {},
   "outputs": [],
   "source": [
    "md = pd.read_table(gisaid_metadata_filepath)"
   ]
  },
  {
   "cell_type": "code",
   "execution_count": null,
   "id": "c1c93bfc",
   "metadata": {},
   "outputs": [],
   "source": [
    "gisaid_data = [(x,y) for x, y in zip(md['Accession ID'], md['Pango lineage'])]"
   ]
  },
  {
   "cell_type": "code",
   "execution_count": null,
   "id": "d3004341",
   "metadata": {},
   "outputs": [],
   "source": [
    "linmuts_dict = sc2ts.lineages.read_in_mutations(mutations_json_filepath)"
   ]
  },
  {
   "cell_type": "code",
   "execution_count": null,
   "id": "cb061202",
   "metadata": {},
   "outputs": [],
   "source": [
    "ts_long_gisaid = sc2ts.utils.check_lineages(\n",
    "    ts_long,\n",
    "    ti_long,\n",
    "    gisaid_data,\n",
    "    linmuts_dict,\n",
    "    diff_filehandle='../../sc2ts_ts/lineage_disagreement_long',\n",
    ")"
   ]
  },
  {
   "cell_type": "code",
   "execution_count": null,
   "id": "1f9f99dc",
   "metadata": {
    "scrolled": true
   },
   "outputs": [],
   "source": [
    "ts_wide_gisaid = sc2ts.utils.check_lineages(\n",
    "    ts_wide,\n",
    "    ti_wide,\n",
    "    gisaid_data,\n",
    "    linmuts_dict,\n",
    "    diff_filehandle='../../sc2ts_ts/lineage_disagreement_wide',\n",
    ")"
   ]
  },
  {
   "cell_type": "markdown",
   "id": "bd69bb4f",
   "metadata": {},
   "source": [
    "# ts lineage imputation"
   ]
  },
  {
   "cell_type": "code",
   "execution_count": null,
   "id": "3930d1da",
   "metadata": {},
   "outputs": [],
   "source": [
    "edited_ts_long = sc2ts.utils.lineage_imputation(\n",
    "    mutations_json_filepath,\n",
    "    ts_long_gisaid, \n",
    "    ti_long,\n",
    "    internal_only=False,\n",
    "    verbose=False\n",
    ")"
   ]
  },
  {
   "cell_type": "code",
   "execution_count": null,
   "id": "23b6e9a7",
   "metadata": {},
   "outputs": [],
   "source": [
    "edited_ts_long.dump(ts_long_path + \"-gisaid-il.ts\")\n",
    "tszip.compress(edited_ts_long, ts_long_path + \"-gisaid-il.ts.tsz\")"
   ]
  },
  {
   "cell_type": "code",
   "execution_count": null,
   "id": "f3369f8a",
   "metadata": {},
   "outputs": [],
   "source": [
    "correct = total = 0\n",
    "for node in edited_ts_long.nodes():\n",
    "    if 'GISAID_lineage' not in node.metadata and 'Imputed_GISAID_lineage' in node.metadata and 'Nextclade_pango' not in node.metadata and 'Imputed_Nextclade_pango' in node.metadata:\n",
    "        if node.metadata['Imputed_GISAID_lineage'] == node.metadata['Imputed_Nextclade_pango']:\n",
    "            correct += 1\n",
    "        total += 1\n",
    "print(correct/total)"
   ]
  },
  {
   "cell_type": "code",
   "execution_count": null,
   "id": "3907aca2",
   "metadata": {},
   "outputs": [],
   "source": [
    "edited_ts_wide = sc2ts.utils.lineage_imputation(\n",
    "    mutations_json_filepath,\n",
    "    ts_wide_gisaid, \n",
    "    ti_wide,\n",
    "    internal_only=False,\n",
    "    verbose=False\n",
    ")"
   ]
  },
  {
   "cell_type": "code",
   "execution_count": null,
   "id": "ac0fe662",
   "metadata": {},
   "outputs": [],
   "source": [
    "edited_ts_wide.dump(ts_wide_path + \"-gisaid-il.ts\")\n",
    "tszip.compress(edited_ts_wide, ts_wide_path + \"-gisaid-il.ts.tsz\")"
   ]
  },
  {
   "cell_type": "code",
   "execution_count": null,
   "id": "d1ab97f9",
   "metadata": {},
   "outputs": [],
   "source": [
    "correct = total = 0\n",
    "for node in edited_ts_wide.nodes():\n",
    "    if 'GISAID_lineage' not in node.metadata and 'Imputed_GISAID_lineage' in node.metadata and 'Nextclade_pango' not in node.metadata and 'Imputed_Nextclade_pango' in node.metadata:\n",
    "        if node.metadata['Imputed_GISAID_lineage'] == node.metadata['Imputed_Nextclade_pango']:\n",
    "            correct += 1\n",
    "        total += 1\n",
    "print(correct/total)"
   ]
  }
 ],
 "metadata": {
  "kernelspec": {
   "display_name": "Python 3 (ipykernel)",
   "language": "python",
   "name": "python3"
  },
  "language_info": {
   "codemirror_mode": {
    "name": "ipython",
    "version": 3
   },
   "file_extension": ".py",
   "mimetype": "text/x-python",
   "name": "python",
   "nbconvert_exporter": "python",
   "pygments_lexer": "ipython3",
   "version": "3.10.5"
  }
 },
 "nbformat": 4,
 "nbformat_minor": 5
}
